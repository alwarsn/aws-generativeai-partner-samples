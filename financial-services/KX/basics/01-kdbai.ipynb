{
 "cells": [
  {
   "cell_type": "markdown",
   "id": "4f293706-73fb-4f12-9a8f-b6e1bf39a1ab",
   "metadata": {},
   "source": [
    "# Amazon Bedrock and KDB.AI\n",
    "\n",
    "## Document Summary using Amazon Bedrock and KDB.AI\n",
    "\n",
    "The following examples demonstrate some of the ways you can interact with KDB.AI and Amazon Bedrock through LangChain.\n",
    "\n",
    "**Authors: Chintan Sanghavi**"
   ]
  },
  {
   "cell_type": "markdown",
   "id": "08b3f3a3-7542-4d39-a9a1-f66e50ec3c0f",
   "metadata": {},
   "source": [
    "# Amazon Bedrock and KDB.AI\n",
    "\n",
    "> [Amazon Bedrock](https://aws.amazon.com/bedrock/) is the easiest way to build and scale generative AI applications with foundation models from third party model providers and your own custom models\n",
    "\n",
    "> [KDB.AI](https://kdb.ai/) is a powerful knowledge-based vector database and search engine that allows you to build scalable, reliable AI applications, using real-time data, by providing advanced search, recommendation and personalization.\n",
    "\n",
    "To access your end point and API keys, [sign up to KDB.AI here](https://kdb.ai/get-started/).\n",
    "\n",
    "To set up your development environment, follow the instructions on the [KDB.AI pre-requisites page](https://code.kx.com/kdbai/pre-requisites.html).\n"
   ]
  },
  {
   "cell_type": "markdown",
   "id": "9f86c9f5-917e-4f35-8454-2c104a5c496f",
   "metadata": {},
   "source": [
    "## Install required Packages"
   ]
  },
  {
   "cell_type": "code",
   "execution_count": 2,
   "id": "2ba83165-a3e4-400f-a851-c8a9b6cb3aec",
   "metadata": {
    "tags": []
   },
   "outputs": [
    {
     "name": "stdout",
     "output_type": "stream",
     "text": [
      "\u001b[33mWARNING: Running pip as the 'root' user can result in broken permissions and conflicting behaviour with the system package manager, possibly rendering your system unusable.It is recommended to use a virtual environment instead: https://pip.pypa.io/warnings/venv. Use the --root-user-action option if you know what you are doing and want to suppress this warning.\u001b[0m\u001b[33m\n",
      "\u001b[0m\u001b[33mWARNING: Running pip as the 'root' user can result in broken permissions and conflicting behaviour with the system package manager, possibly rendering your system unusable.It is recommended to use a virtual environment instead: https://pip.pypa.io/warnings/venv. Use the --root-user-action option if you know what you are doing and want to suppress this warning.\u001b[0m\u001b[33m\n",
      "\u001b[0m\u001b[33mWARNING: Running pip as the 'root' user can result in broken permissions and conflicting behaviour with the system package manager, possibly rendering your system unusable.It is recommended to use a virtual environment instead: https://pip.pypa.io/warnings/venv. Use the --root-user-action option if you know what you are doing and want to suppress this warning.\u001b[0m\u001b[33m\n",
      "\u001b[0m\u001b[33mWARNING: Running pip as the 'root' user can result in broken permissions and conflicting behaviour with the system package manager, possibly rendering your system unusable.It is recommended to use a virtual environment instead: https://pip.pypa.io/warnings/venv. Use the --root-user-action option if you know what you are doing and want to suppress this warning.\u001b[0m\u001b[33m\n",
      "\u001b[0m"
     ]
    }
   ],
   "source": [
    "!pip install -q --upgrade pip\n",
    "!pip install -q langchain-aws \n",
    "!pip install -q langchain-community boto3 \n",
    "!pip install -q pypdf "
   ]
  },
  {
   "cell_type": "markdown",
   "id": "5b73dfa3-8011-4a0d-9ff6-540d182f8f55",
   "metadata": {},
   "source": [
    "## Import required packages"
   ]
  },
  {
   "cell_type": "code",
   "execution_count": 3,
   "id": "2704194d-c42d-463d-b162-fb95262e052c",
   "metadata": {
    "tags": []
   },
   "outputs": [],
   "source": [
    "import os\n",
    "import time\n",
    "\n",
    "import kdbai_client as kdbai\n",
    "import pandas as pd\n",
    "import requests\n",
    "from langchain.chains import RetrievalQA\n",
    "from langchain_community.document_loaders import PyPDFLoader\n",
    "from langchain_community.vectorstores import KDBAI\n",
    "#from langchain_openai import ChatOpenAI, OpenAIEmbeddings\n",
    "\n",
    "# AWS related Langchain Packages\n",
    "from langchain_aws import ChatBedrockConverse\n",
    "from langchain_aws import BedrockEmbeddings\n",
    "from langchain_aws import ChatBedrock\n",
    "#from langchain_community.embeddings import BedrockEmbeddings\n",
    "#from langchain_aws import BedrockLLM"
   ]
  },
  {
   "cell_type": "markdown",
   "id": "0c4c9629-972b-4481-83ac-fa3731ed3f9c",
   "metadata": {},
   "source": [
    "<div class=\"alert alert-block alert-warning\">\n",
    "  <b>Warning:</b> Use blue boxes (alert-info) for tips and notes.\n",
    "</div>"
   ]
  },
  {
   "cell_type": "code",
   "execution_count": 4,
   "id": "04848fcf-e128-4d63-af6c-b3991531d62e",
   "metadata": {
    "tags": []
   },
   "outputs": [],
   "source": [
    "KDBAI_ENDPOINT = \"https://cloud.kdb.ai/instance/2dwnisr9hd\"\n",
    "KDBAI_API_KEY = \"f4a106ddc6-HXoJJqjslErpNo+x9nEtlxfmU+vyXs9Eol0X8JJF49KnfBF1UWQw83S06yva/qZUN6qDIa1Uw2ZBOv9m\""
   ]
  },
  {
   "cell_type": "code",
   "execution_count": 5,
   "id": "d08a1468-6bff-4a65-8b4a-9835cfa997ad",
   "metadata": {
    "tags": []
   },
   "outputs": [],
   "source": [
    "TEMP = 0.0\n",
    "K = 3"
   ]
  },
  {
   "cell_type": "markdown",
   "id": "63a111d8-2422-4d33-85c0-bc95d25e330a",
   "metadata": {},
   "source": [
    "## Create a KBD.AI Session"
   ]
  },
  {
   "cell_type": "code",
   "execution_count": 6,
   "id": "9ffe4fee-2dc3-4943-917b-28adc3a69472",
   "metadata": {
    "tags": []
   },
   "outputs": [
    {
     "name": "stdout",
     "output_type": "stream",
     "text": [
      "Create a KDB.AI session...\n"
     ]
    }
   ],
   "source": [
    "print(\"Create a KDB.AI session...\")\n",
    "session = kdbai.Session(endpoint=KDBAI_ENDPOINT, api_key=KDBAI_API_KEY)"
   ]
  },
  {
   "cell_type": "markdown",
   "id": "a2ea7e87-f65c-43d9-bc67-be7bda86def2",
   "metadata": {},
   "source": [
    "## Create a table"
   ]
  },
  {
   "cell_type": "code",
   "execution_count": 7,
   "id": "da27f31c-890e-46c0-8e01-1b8474ee3a70",
   "metadata": {
    "tags": []
   },
   "outputs": [
    {
     "name": "stdout",
     "output_type": "stream",
     "text": [
      "Create table \"documents\"...\n"
     ]
    }
   ],
   "source": [
    "print('Create table \"documents\"...')\n",
    "schema = {\n",
    "    \"columns\": [\n",
    "        {\"name\": \"id\", \"pytype\": \"str\"},\n",
    "        {\"name\": \"text\", \"pytype\": \"bytes\"},\n",
    "        {\n",
    "            \"name\": \"embeddings\",\n",
    "            \"pytype\": \"float32\",\n",
    "            \"vectorIndex\": {\"dims\": 1536, \"metric\": \"L2\", \"type\": \"hnsw\"},\n",
    "        },\n",
    "        {\"name\": \"tag\", \"pytype\": \"str\"},\n",
    "        {\"name\": \"title\", \"pytype\": \"bytes\"},\n",
    "    ]\n",
    "}\n",
    "table = session.create_table(\"documents\", schema)"
   ]
  },
  {
   "cell_type": "code",
   "execution_count": 8,
   "id": "930ba64a-1cf9-4892-9335-8745c830497c",
   "metadata": {
    "tags": []
   },
   "outputs": [
    {
     "name": "stdout",
     "output_type": "stream",
     "text": [
      "CPU times: user 19.3 ms, sys: 6.52 ms, total: 25.8 ms\n",
      "Wall time: 1.27 s\n"
     ]
    },
    {
     "data": {
      "text/plain": [
       "562978"
      ]
     },
     "execution_count": 8,
     "metadata": {},
     "output_type": "execute_result"
    }
   ],
   "source": [
    "%%time\n",
    "URL = \"https://www.conseil-constitutionnel.fr/node/3850/pdf\"\n",
    "PDF = \"Déclaration_des_droits_de_l_homme_et_du_citoyen.pdf\"\n",
    "open(PDF, \"wb\").write(requests.get(URL).content)"
   ]
  },
  {
   "cell_type": "markdown",
   "id": "0f7da153-e7d4-4a4c-b044-ad7b4d893c7f",
   "metadata": {},
   "source": [
    "## Read a PDF"
   ]
  },
  {
   "cell_type": "code",
   "execution_count": 9,
   "id": "00873e6b-f204-4dca-b82b-1c45d0b83ee5",
   "metadata": {
    "tags": []
   },
   "outputs": [
    {
     "name": "stdout",
     "output_type": "stream",
     "text": [
      "Read a PDF...\n",
      "CPU times: user 352 ms, sys: 6.94 ms, total: 359 ms\n",
      "Wall time: 462 ms\n"
     ]
    },
    {
     "data": {
      "text/plain": [
       "3"
      ]
     },
     "execution_count": 9,
     "metadata": {},
     "output_type": "execute_result"
    }
   ],
   "source": [
    "%%time\n",
    "print(\"Read a PDF...\")\n",
    "loader = PyPDFLoader(PDF)\n",
    "pages = loader.load_and_split()\n",
    "len(pages)"
   ]
  },
  {
   "cell_type": "markdown",
   "id": "3536c7db-0db7-446a-b61e-149fd3c2d1d8",
   "metadata": {},
   "source": [
    "## Create a Vector Database from PDF Text"
   ]
  },
  {
   "cell_type": "code",
   "execution_count": 10,
   "id": "b06d4a96-c3d5-426b-9e22-12925b14e5e6",
   "metadata": {
    "tags": []
   },
   "outputs": [
    {
     "name": "stdout",
     "output_type": "stream",
     "text": [
      "Create a Vector Database from PDF text...\n",
      "CPU times: user 86.1 ms, sys: 16.7 ms, total: 103 ms\n",
      "Wall time: 843 ms\n"
     ]
    },
    {
     "data": {
      "text/plain": [
       "['da226f59-4e41-4b32-8bbb-3f2e31322a2a',\n",
       " '7e9dfe93-e029-43c7-9779-1b86fd28a18f',\n",
       " 'f5b25424-916a-412d-80ff-91a26a804455']"
      ]
     },
     "execution_count": 10,
     "metadata": {},
     "output_type": "execute_result"
    }
   ],
   "source": [
    "%%time\n",
    "print(\"Create a Vector Database from PDF text...\")\n",
    "embeddings = BedrockEmbeddings()\n",
    "texts = [p.page_content for p in pages]\n",
    "metadata = pd.DataFrame(index=list(range(len(texts))))\n",
    "metadata[\"tag\"] = \"law\"\n",
    "metadata[\"title\"] = \"Déclaration des Droits de l'Homme et du Citoyen de 1789\".encode(\n",
    "    \"utf-8\"\n",
    ")\n",
    "vectordb = KDBAI(table, embeddings)\n",
    "vectordb.add_texts(texts=texts, metadatas=metadata)"
   ]
  },
  {
   "cell_type": "markdown",
   "id": "3b658f9a-61dd-4a88-9bcb-4651992f610d",
   "metadata": {},
   "source": [
    "## Create LangChain Pipeline"
   ]
  },
  {
   "cell_type": "code",
   "execution_count": 11,
   "id": "125b47fa-1390-4ae8-a324-736e71c53d88",
   "metadata": {
    "tags": []
   },
   "outputs": [],
   "source": [
    "llm = ChatBedrock(\n",
    "    model_id=\"anthropic.claude-3-sonnet-20240229-v1:0\",\n",
    "    model_kwargs=dict(temperature=TEMP),\n",
    ")"
   ]
  },
  {
   "cell_type": "code",
   "execution_count": 12,
   "id": "0a584bcd-36b7-408f-9d92-70967659e001",
   "metadata": {
    "tags": []
   },
   "outputs": [],
   "source": [
    "from langchain_aws import ChatBedrockConverse\n",
    "llm_converse = ChatBedrockConverse(\n",
    "    model=\"anthropic.claude-3-sonnet-20240229-v1:0\",\n",
    "    temperature=TEMP,\n",
    "    max_tokens=None,\n",
    ")"
   ]
  },
  {
   "cell_type": "code",
   "execution_count": 13,
   "id": "6d848577-1192-4bb0-b721-37f52be5d9d0",
   "metadata": {
    "tags": []
   },
   "outputs": [
    {
     "name": "stdout",
     "output_type": "stream",
     "text": [
      "Create LangChain Pipeline...\n",
      "CPU times: user 90.5 ms, sys: 28.4 ms, total: 119 ms\n",
      "Wall time: 128 ms\n"
     ]
    }
   ],
   "source": [
    "%%time\n",
    "print(\"Create LangChain Pipeline...\")\n",
    "qabot = RetrievalQA.from_chain_type(\n",
    "    chain_type=\"stuff\",\n",
    "    llm=llm_converse, # Change this based on Converse or non-converse LLM\n",
    "    retriever=vectordb.as_retriever(search_kwargs=dict(k=K)),\n",
    "    return_source_documents=True,\n",
    ")"
   ]
  },
  {
   "cell_type": "markdown",
   "id": "21113a5e-d72d-4a44-9714-6b23ec95b755",
   "metadata": {},
   "source": [
    "## Summarize the document in English"
   ]
  },
  {
   "cell_type": "code",
   "execution_count": 14,
   "id": "81668f8f-a416-4b58-93d2-8e0924ceca23",
   "metadata": {
    "tags": []
   },
   "outputs": [
    {
     "name": "stdout",
     "output_type": "stream",
     "text": [
      "\n",
      "\n",
      "Summarize the document in English:\n",
      "\n",
      "This is the Declaration of the Rights of Man and of the Citizen from 1789, one of the fundamental documents of the French Revolution. It proclaimed the basic rights and freedoms of citizens, including:\n",
      "\n",
      "- Equality before the law and equal rights for all men (Article 1)\n",
      "- The rights of liberty, property, security, and resistance to oppression (Article 2) \n",
      "- Sovereignty residing in the nation, not any individual or group (Article 3)\n",
      "- Freedom to do anything that does not harm others (Article 4)\n",
      "- Laws can only prohibit actions harmful to society (Article 5)\n",
      "- Equal application of the law, equal eligibility for public offices (Article 6)\n",
      "- Due process, no arbitrary arrest or detention (Articles 7-9)\n",
      "- Freedom of religion and opinion (Articles 10-11)\n",
      "- Taxation only with consent and oversight (Articles 13-14)\n",
      "- Accountability of public officials (Article 15)\n",
      "- Property rights, with ability to take for public necessity with compensation (Article 17)\n",
      "\n",
      "It established core principles of liberal democracy - individual rights, rule of law, consent of the governed, and limitations on state power. It was a key inspiration for future democratic movements.\n",
      "CPU times: user 37 ms, sys: 8.47 ms, total: 45.4 ms\n",
      "Wall time: 10.9 s\n"
     ]
    }
   ],
   "source": [
    "%%time\n",
    "Q = \"Summarize the document in English:\"\n",
    "print(f\"\\n\\n{Q}\\n\")\n",
    "print(qabot.invoke(dict(query=Q))[\"result\"])"
   ]
  },
  {
   "cell_type": "markdown",
   "id": "9ce7667e-8c89-466c-8040-9ba62f3e57ec",
   "metadata": {},
   "source": [
    "## Query the Data"
   ]
  },
  {
   "cell_type": "code",
   "execution_count": 15,
   "id": "e02a7acb-99ac-48f8-b93c-d95a8f9e87d4",
   "metadata": {
    "tags": []
   },
   "outputs": [
    {
     "name": "stdout",
     "output_type": "stream",
     "text": [
      "\n",
      "\n",
      "Is it a fair law and why ?\n",
      "\n",
      "The Declaration of the Rights of Man and of the Citizen of 1789 laid down important principles of liberty, equality, and individual rights that were revolutionary and progressive for its time. However, by today's standards, there are some aspects that could be seen as unfair or incomplete:\n",
      "\n",
      "- It does not explicitly grant rights to women, referring only to the \"rights of man\" (although some have argued this was intended in a gender-neutral way).\n",
      "\n",
      "- It does not abolish slavery or address the rights of minorities and marginalized groups.\n",
      "\n",
      "- Some of the language around property rights could be seen as prioritizing the rights of property owners over others.\n",
      "\n",
      "- There are limitations on freedom of religion and expression that may be viewed as too restrictive today.\n",
      "\n",
      "That said, for its historical context, it represented a major step forward in codifying basic human rights and limiting the power of the state over individuals. Many of its core principles around liberty, equality before the law, freedom of speech, and the consent of the governed became foundations for modern democracies.\n",
      "\n",
      "So in summary, while not perfect by contemporary standards, it was a groundbreaking and important document that helped advance notions of human rights and civil liberties, even if there remained room for further progress. Evaluating it fairly requires considering it through the lens of its era.\n",
      "CPU times: user 23.9 ms, sys: 3.33 ms, total: 27.3 ms\n",
      "Wall time: 9.15 s\n"
     ]
    }
   ],
   "source": [
    "%%time\n",
    "Q = \"Is it a fair law and why ?\"\n",
    "print(f\"\\n\\n{Q}\\n\")\n",
    "print(qabot.invoke(dict(query=Q))[\"result\"])"
   ]
  },
  {
   "cell_type": "code",
   "execution_count": 16,
   "id": "24dc85bd-cd35-4fb3-9d01-e00a896fd9a1",
   "metadata": {
    "tags": []
   },
   "outputs": [
    {
     "name": "stdout",
     "output_type": "stream",
     "text": [
      "\n",
      "\n",
      "What are the rights and duties of the man, the citizen and the society ?\n",
      "\n",
      "According to the French Declaration of the Rights of Man and of the Citizen of 1789, some of the key rights and duties outlined are:\n",
      "\n",
      "Rights of Man:\n",
      "- Men are born and remain free and equal in rights (Article 1)\n",
      "- Natural and imprescriptible rights include liberty, property, security, and resistance to oppression (Article 2)\n",
      "- Liberty consists of being able to do anything that does not harm others (Article 4)\n",
      "- The law can only prohibit actions harmful to society (Article 5)\n",
      "- No one shall be accused, arrested or detained except in cases determined by law (Article 7)\n",
      "- The free communication of thoughts and opinions is one of the most precious rights (Article 11)\n",
      "\n",
      "Rights of the Citizen:\n",
      "- All citizens have the right to participate personally or through representatives in the formation of law (Article 6)\n",
      "- All citizens are equal before the law and eligible for public positions based on merit (Article 6)\n",
      "\n",
      "Duties of Society:\n",
      "- Ignorance, forgetting or contempt for human rights are causes of public misfortune (Preamble)\n",
      "- A public force is necessary to guarantee rights, for the advantage of all (Article 12)  \n",
      "- Citizens must contribute financially to maintain public forces and administration (Article 13)\n",
      "- Society has the right to demand accountability from public officials (Article 15)\n",
      "- Society must ensure the guarantee of rights and separation of powers (Article 16)\n",
      "CPU times: user 27.1 ms, sys: 264 µs, total: 27.4 ms\n",
      "Wall time: 6.73 s\n"
     ]
    }
   ],
   "source": [
    "%%time\n",
    "Q = \"What are the rights and duties of the man, the citizen and the society ?\"\n",
    "print(f\"\\n\\n{Q}\\n\")\n",
    "print(qabot.invoke(dict(query=Q))[\"result\"])"
   ]
  },
  {
   "cell_type": "code",
   "execution_count": 17,
   "id": "d55b7980-a3d3-45d7-a310-99492edb098b",
   "metadata": {
    "tags": []
   },
   "outputs": [
    {
     "name": "stdout",
     "output_type": "stream",
     "text": [
      "\n",
      "\n",
      "Is this law practical ?\n",
      "\n",
      "The Declaration of the Rights of Man and of the Citizen of 1789 was a foundational document that established important principles of human rights and civil liberties. However, putting all of its ideals into full practice proved challenging at the time and in the years that followed.\n",
      "\n",
      "Some key points about the practicality and implementation of this declaration:\n",
      "\n",
      "- It set forth admirable goals like equality before the law, freedom of speech and religion, due process, and the consent of the governed for taxation. However, fully realizing these rights took time and struggle.\n",
      "\n",
      "- The declaration was more of a statement of philosophy rather than a detailed legal code that could be easily enforced across France.\n",
      "\n",
      "- Certain rights like property rights (Article 17) came into conflict with the more radical factions during the French Revolution.\n",
      "\n",
      "- While influential, the declaration initially lacked solid constitutional mechanisms to ensure its principles were upheld by the revolutionary governments that followed.\n",
      "\n",
      "- The rights laid out applied to \"men\" and \"citizens\" but not explicitly to women or minorities at the time.\n",
      "\n",
      "So in summary, while an inspirational document that promoted Enlightenment ideals of individual liberty, the full and practical implementation of the 1789 declaration's articles proved difficult in the short-term in very turbulent revolutionary times. It took decades and centuries of activism and reform to more fully enshrine these rights into the legal and social fabric of France.\n",
      "CPU times: user 23.3 ms, sys: 4.27 ms, total: 27.6 ms\n",
      "Wall time: 9.77 s\n"
     ]
    }
   ],
   "source": [
    "%%time\n",
    "Q = \"Is this law practical ?\"\n",
    "print(f\"\\n\\n{Q}\\n\")\n",
    "print(qabot.invoke(dict(query=Q))[\"result\"])"
   ]
  },
  {
   "cell_type": "markdown",
   "id": "5f9d0a3c-4941-4f65-b6b8-aefe4f6abd14",
   "metadata": {},
   "source": [
    "## Clean up the Documents table"
   ]
  },
  {
   "cell_type": "code",
   "execution_count": 18,
   "id": "cdddda29-e28d-423f-b1c6-f77d39acc3dd",
   "metadata": {
    "tags": []
   },
   "outputs": [
    {
     "data": {
      "text/plain": [
       "True"
      ]
     },
     "execution_count": 18,
     "metadata": {},
     "output_type": "execute_result"
    }
   ],
   "source": [
    "# Clean up KDB.AI \"documents\" table and index for similarity search\n",
    "# so this notebook could be played again and again\n",
    "session.table(\"documents\").drop()"
   ]
  },
  {
   "cell_type": "code",
   "execution_count": null,
   "id": "23cb1359-f32c-4b47-a885-cbf3cbae5b14",
   "metadata": {},
   "outputs": [],
   "source": []
  }
 ],
 "metadata": {
  "availableInstances": [
   {
    "_defaultOrder": 0,
    "_isFastLaunch": true,
    "category": "General purpose",
    "gpuNum": 0,
    "hideHardwareSpecs": false,
    "memoryGiB": 4,
    "name": "ml.t3.medium",
    "vcpuNum": 2
   },
   {
    "_defaultOrder": 1,
    "_isFastLaunch": false,
    "category": "General purpose",
    "gpuNum": 0,
    "hideHardwareSpecs": false,
    "memoryGiB": 8,
    "name": "ml.t3.large",
    "vcpuNum": 2
   },
   {
    "_defaultOrder": 2,
    "_isFastLaunch": false,
    "category": "General purpose",
    "gpuNum": 0,
    "hideHardwareSpecs": false,
    "memoryGiB": 16,
    "name": "ml.t3.xlarge",
    "vcpuNum": 4
   },
   {
    "_defaultOrder": 3,
    "_isFastLaunch": false,
    "category": "General purpose",
    "gpuNum": 0,
    "hideHardwareSpecs": false,
    "memoryGiB": 32,
    "name": "ml.t3.2xlarge",
    "vcpuNum": 8
   },
   {
    "_defaultOrder": 4,
    "_isFastLaunch": true,
    "category": "General purpose",
    "gpuNum": 0,
    "hideHardwareSpecs": false,
    "memoryGiB": 8,
    "name": "ml.m5.large",
    "vcpuNum": 2
   },
   {
    "_defaultOrder": 5,
    "_isFastLaunch": false,
    "category": "General purpose",
    "gpuNum": 0,
    "hideHardwareSpecs": false,
    "memoryGiB": 16,
    "name": "ml.m5.xlarge",
    "vcpuNum": 4
   },
   {
    "_defaultOrder": 6,
    "_isFastLaunch": false,
    "category": "General purpose",
    "gpuNum": 0,
    "hideHardwareSpecs": false,
    "memoryGiB": 32,
    "name": "ml.m5.2xlarge",
    "vcpuNum": 8
   },
   {
    "_defaultOrder": 7,
    "_isFastLaunch": false,
    "category": "General purpose",
    "gpuNum": 0,
    "hideHardwareSpecs": false,
    "memoryGiB": 64,
    "name": "ml.m5.4xlarge",
    "vcpuNum": 16
   },
   {
    "_defaultOrder": 8,
    "_isFastLaunch": false,
    "category": "General purpose",
    "gpuNum": 0,
    "hideHardwareSpecs": false,
    "memoryGiB": 128,
    "name": "ml.m5.8xlarge",
    "vcpuNum": 32
   },
   {
    "_defaultOrder": 9,
    "_isFastLaunch": false,
    "category": "General purpose",
    "gpuNum": 0,
    "hideHardwareSpecs": false,
    "memoryGiB": 192,
    "name": "ml.m5.12xlarge",
    "vcpuNum": 48
   },
   {
    "_defaultOrder": 10,
    "_isFastLaunch": false,
    "category": "General purpose",
    "gpuNum": 0,
    "hideHardwareSpecs": false,
    "memoryGiB": 256,
    "name": "ml.m5.16xlarge",
    "vcpuNum": 64
   },
   {
    "_defaultOrder": 11,
    "_isFastLaunch": false,
    "category": "General purpose",
    "gpuNum": 0,
    "hideHardwareSpecs": false,
    "memoryGiB": 384,
    "name": "ml.m5.24xlarge",
    "vcpuNum": 96
   },
   {
    "_defaultOrder": 12,
    "_isFastLaunch": false,
    "category": "General purpose",
    "gpuNum": 0,
    "hideHardwareSpecs": false,
    "memoryGiB": 8,
    "name": "ml.m5d.large",
    "vcpuNum": 2
   },
   {
    "_defaultOrder": 13,
    "_isFastLaunch": false,
    "category": "General purpose",
    "gpuNum": 0,
    "hideHardwareSpecs": false,
    "memoryGiB": 16,
    "name": "ml.m5d.xlarge",
    "vcpuNum": 4
   },
   {
    "_defaultOrder": 14,
    "_isFastLaunch": false,
    "category": "General purpose",
    "gpuNum": 0,
    "hideHardwareSpecs": false,
    "memoryGiB": 32,
    "name": "ml.m5d.2xlarge",
    "vcpuNum": 8
   },
   {
    "_defaultOrder": 15,
    "_isFastLaunch": false,
    "category": "General purpose",
    "gpuNum": 0,
    "hideHardwareSpecs": false,
    "memoryGiB": 64,
    "name": "ml.m5d.4xlarge",
    "vcpuNum": 16
   },
   {
    "_defaultOrder": 16,
    "_isFastLaunch": false,
    "category": "General purpose",
    "gpuNum": 0,
    "hideHardwareSpecs": false,
    "memoryGiB": 128,
    "name": "ml.m5d.8xlarge",
    "vcpuNum": 32
   },
   {
    "_defaultOrder": 17,
    "_isFastLaunch": false,
    "category": "General purpose",
    "gpuNum": 0,
    "hideHardwareSpecs": false,
    "memoryGiB": 192,
    "name": "ml.m5d.12xlarge",
    "vcpuNum": 48
   },
   {
    "_defaultOrder": 18,
    "_isFastLaunch": false,
    "category": "General purpose",
    "gpuNum": 0,
    "hideHardwareSpecs": false,
    "memoryGiB": 256,
    "name": "ml.m5d.16xlarge",
    "vcpuNum": 64
   },
   {
    "_defaultOrder": 19,
    "_isFastLaunch": false,
    "category": "General purpose",
    "gpuNum": 0,
    "hideHardwareSpecs": false,
    "memoryGiB": 384,
    "name": "ml.m5d.24xlarge",
    "vcpuNum": 96
   },
   {
    "_defaultOrder": 20,
    "_isFastLaunch": false,
    "category": "General purpose",
    "gpuNum": 0,
    "hideHardwareSpecs": true,
    "memoryGiB": 0,
    "name": "ml.geospatial.interactive",
    "supportedImageNames": [
     "sagemaker-geospatial-v1-0"
    ],
    "vcpuNum": 0
   },
   {
    "_defaultOrder": 21,
    "_isFastLaunch": true,
    "category": "Compute optimized",
    "gpuNum": 0,
    "hideHardwareSpecs": false,
    "memoryGiB": 4,
    "name": "ml.c5.large",
    "vcpuNum": 2
   },
   {
    "_defaultOrder": 22,
    "_isFastLaunch": false,
    "category": "Compute optimized",
    "gpuNum": 0,
    "hideHardwareSpecs": false,
    "memoryGiB": 8,
    "name": "ml.c5.xlarge",
    "vcpuNum": 4
   },
   {
    "_defaultOrder": 23,
    "_isFastLaunch": false,
    "category": "Compute optimized",
    "gpuNum": 0,
    "hideHardwareSpecs": false,
    "memoryGiB": 16,
    "name": "ml.c5.2xlarge",
    "vcpuNum": 8
   },
   {
    "_defaultOrder": 24,
    "_isFastLaunch": false,
    "category": "Compute optimized",
    "gpuNum": 0,
    "hideHardwareSpecs": false,
    "memoryGiB": 32,
    "name": "ml.c5.4xlarge",
    "vcpuNum": 16
   },
   {
    "_defaultOrder": 25,
    "_isFastLaunch": false,
    "category": "Compute optimized",
    "gpuNum": 0,
    "hideHardwareSpecs": false,
    "memoryGiB": 72,
    "name": "ml.c5.9xlarge",
    "vcpuNum": 36
   },
   {
    "_defaultOrder": 26,
    "_isFastLaunch": false,
    "category": "Compute optimized",
    "gpuNum": 0,
    "hideHardwareSpecs": false,
    "memoryGiB": 96,
    "name": "ml.c5.12xlarge",
    "vcpuNum": 48
   },
   {
    "_defaultOrder": 27,
    "_isFastLaunch": false,
    "category": "Compute optimized",
    "gpuNum": 0,
    "hideHardwareSpecs": false,
    "memoryGiB": 144,
    "name": "ml.c5.18xlarge",
    "vcpuNum": 72
   },
   {
    "_defaultOrder": 28,
    "_isFastLaunch": false,
    "category": "Compute optimized",
    "gpuNum": 0,
    "hideHardwareSpecs": false,
    "memoryGiB": 192,
    "name": "ml.c5.24xlarge",
    "vcpuNum": 96
   },
   {
    "_defaultOrder": 29,
    "_isFastLaunch": true,
    "category": "Accelerated computing",
    "gpuNum": 1,
    "hideHardwareSpecs": false,
    "memoryGiB": 16,
    "name": "ml.g4dn.xlarge",
    "vcpuNum": 4
   },
   {
    "_defaultOrder": 30,
    "_isFastLaunch": false,
    "category": "Accelerated computing",
    "gpuNum": 1,
    "hideHardwareSpecs": false,
    "memoryGiB": 32,
    "name": "ml.g4dn.2xlarge",
    "vcpuNum": 8
   },
   {
    "_defaultOrder": 31,
    "_isFastLaunch": false,
    "category": "Accelerated computing",
    "gpuNum": 1,
    "hideHardwareSpecs": false,
    "memoryGiB": 64,
    "name": "ml.g4dn.4xlarge",
    "vcpuNum": 16
   },
   {
    "_defaultOrder": 32,
    "_isFastLaunch": false,
    "category": "Accelerated computing",
    "gpuNum": 1,
    "hideHardwareSpecs": false,
    "memoryGiB": 128,
    "name": "ml.g4dn.8xlarge",
    "vcpuNum": 32
   },
   {
    "_defaultOrder": 33,
    "_isFastLaunch": false,
    "category": "Accelerated computing",
    "gpuNum": 4,
    "hideHardwareSpecs": false,
    "memoryGiB": 192,
    "name": "ml.g4dn.12xlarge",
    "vcpuNum": 48
   },
   {
    "_defaultOrder": 34,
    "_isFastLaunch": false,
    "category": "Accelerated computing",
    "gpuNum": 1,
    "hideHardwareSpecs": false,
    "memoryGiB": 256,
    "name": "ml.g4dn.16xlarge",
    "vcpuNum": 64
   },
   {
    "_defaultOrder": 35,
    "_isFastLaunch": false,
    "category": "Accelerated computing",
    "gpuNum": 1,
    "hideHardwareSpecs": false,
    "memoryGiB": 61,
    "name": "ml.p3.2xlarge",
    "vcpuNum": 8
   },
   {
    "_defaultOrder": 36,
    "_isFastLaunch": false,
    "category": "Accelerated computing",
    "gpuNum": 4,
    "hideHardwareSpecs": false,
    "memoryGiB": 244,
    "name": "ml.p3.8xlarge",
    "vcpuNum": 32
   },
   {
    "_defaultOrder": 37,
    "_isFastLaunch": false,
    "category": "Accelerated computing",
    "gpuNum": 8,
    "hideHardwareSpecs": false,
    "memoryGiB": 488,
    "name": "ml.p3.16xlarge",
    "vcpuNum": 64
   },
   {
    "_defaultOrder": 38,
    "_isFastLaunch": false,
    "category": "Accelerated computing",
    "gpuNum": 8,
    "hideHardwareSpecs": false,
    "memoryGiB": 768,
    "name": "ml.p3dn.24xlarge",
    "vcpuNum": 96
   },
   {
    "_defaultOrder": 39,
    "_isFastLaunch": false,
    "category": "Memory Optimized",
    "gpuNum": 0,
    "hideHardwareSpecs": false,
    "memoryGiB": 16,
    "name": "ml.r5.large",
    "vcpuNum": 2
   },
   {
    "_defaultOrder": 40,
    "_isFastLaunch": false,
    "category": "Memory Optimized",
    "gpuNum": 0,
    "hideHardwareSpecs": false,
    "memoryGiB": 32,
    "name": "ml.r5.xlarge",
    "vcpuNum": 4
   },
   {
    "_defaultOrder": 41,
    "_isFastLaunch": false,
    "category": "Memory Optimized",
    "gpuNum": 0,
    "hideHardwareSpecs": false,
    "memoryGiB": 64,
    "name": "ml.r5.2xlarge",
    "vcpuNum": 8
   },
   {
    "_defaultOrder": 42,
    "_isFastLaunch": false,
    "category": "Memory Optimized",
    "gpuNum": 0,
    "hideHardwareSpecs": false,
    "memoryGiB": 128,
    "name": "ml.r5.4xlarge",
    "vcpuNum": 16
   },
   {
    "_defaultOrder": 43,
    "_isFastLaunch": false,
    "category": "Memory Optimized",
    "gpuNum": 0,
    "hideHardwareSpecs": false,
    "memoryGiB": 256,
    "name": "ml.r5.8xlarge",
    "vcpuNum": 32
   },
   {
    "_defaultOrder": 44,
    "_isFastLaunch": false,
    "category": "Memory Optimized",
    "gpuNum": 0,
    "hideHardwareSpecs": false,
    "memoryGiB": 384,
    "name": "ml.r5.12xlarge",
    "vcpuNum": 48
   },
   {
    "_defaultOrder": 45,
    "_isFastLaunch": false,
    "category": "Memory Optimized",
    "gpuNum": 0,
    "hideHardwareSpecs": false,
    "memoryGiB": 512,
    "name": "ml.r5.16xlarge",
    "vcpuNum": 64
   },
   {
    "_defaultOrder": 46,
    "_isFastLaunch": false,
    "category": "Memory Optimized",
    "gpuNum": 0,
    "hideHardwareSpecs": false,
    "memoryGiB": 768,
    "name": "ml.r5.24xlarge",
    "vcpuNum": 96
   },
   {
    "_defaultOrder": 47,
    "_isFastLaunch": false,
    "category": "Accelerated computing",
    "gpuNum": 1,
    "hideHardwareSpecs": false,
    "memoryGiB": 16,
    "name": "ml.g5.xlarge",
    "vcpuNum": 4
   },
   {
    "_defaultOrder": 48,
    "_isFastLaunch": false,
    "category": "Accelerated computing",
    "gpuNum": 1,
    "hideHardwareSpecs": false,
    "memoryGiB": 32,
    "name": "ml.g5.2xlarge",
    "vcpuNum": 8
   },
   {
    "_defaultOrder": 49,
    "_isFastLaunch": false,
    "category": "Accelerated computing",
    "gpuNum": 1,
    "hideHardwareSpecs": false,
    "memoryGiB": 64,
    "name": "ml.g5.4xlarge",
    "vcpuNum": 16
   },
   {
    "_defaultOrder": 50,
    "_isFastLaunch": false,
    "category": "Accelerated computing",
    "gpuNum": 1,
    "hideHardwareSpecs": false,
    "memoryGiB": 128,
    "name": "ml.g5.8xlarge",
    "vcpuNum": 32
   },
   {
    "_defaultOrder": 51,
    "_isFastLaunch": false,
    "category": "Accelerated computing",
    "gpuNum": 1,
    "hideHardwareSpecs": false,
    "memoryGiB": 256,
    "name": "ml.g5.16xlarge",
    "vcpuNum": 64
   },
   {
    "_defaultOrder": 52,
    "_isFastLaunch": false,
    "category": "Accelerated computing",
    "gpuNum": 4,
    "hideHardwareSpecs": false,
    "memoryGiB": 192,
    "name": "ml.g5.12xlarge",
    "vcpuNum": 48
   },
   {
    "_defaultOrder": 53,
    "_isFastLaunch": false,
    "category": "Accelerated computing",
    "gpuNum": 4,
    "hideHardwareSpecs": false,
    "memoryGiB": 384,
    "name": "ml.g5.24xlarge",
    "vcpuNum": 96
   },
   {
    "_defaultOrder": 54,
    "_isFastLaunch": false,
    "category": "Accelerated computing",
    "gpuNum": 8,
    "hideHardwareSpecs": false,
    "memoryGiB": 768,
    "name": "ml.g5.48xlarge",
    "vcpuNum": 192
   },
   {
    "_defaultOrder": 55,
    "_isFastLaunch": false,
    "category": "Accelerated computing",
    "gpuNum": 8,
    "hideHardwareSpecs": false,
    "memoryGiB": 1152,
    "name": "ml.p4d.24xlarge",
    "vcpuNum": 96
   },
   {
    "_defaultOrder": 56,
    "_isFastLaunch": false,
    "category": "Accelerated computing",
    "gpuNum": 8,
    "hideHardwareSpecs": false,
    "memoryGiB": 1152,
    "name": "ml.p4de.24xlarge",
    "vcpuNum": 96
   },
   {
    "_defaultOrder": 57,
    "_isFastLaunch": false,
    "category": "Accelerated computing",
    "gpuNum": 0,
    "hideHardwareSpecs": false,
    "memoryGiB": 32,
    "name": "ml.trn1.2xlarge",
    "vcpuNum": 8
   },
   {
    "_defaultOrder": 58,
    "_isFastLaunch": false,
    "category": "Accelerated computing",
    "gpuNum": 0,
    "hideHardwareSpecs": false,
    "memoryGiB": 512,
    "name": "ml.trn1.32xlarge",
    "vcpuNum": 128
   },
   {
    "_defaultOrder": 59,
    "_isFastLaunch": false,
    "category": "Accelerated computing",
    "gpuNum": 0,
    "hideHardwareSpecs": false,
    "memoryGiB": 512,
    "name": "ml.trn1n.32xlarge",
    "vcpuNum": 128
   }
  ],
  "instance_type": "ml.t3.medium",
  "kernelspec": {
   "display_name": "Python 3 (Base Python 2.0)",
   "language": "python",
   "name": "python3__SAGEMAKER_INTERNAL__arn:aws:sagemaker:us-west-2:236514542706:image/sagemaker-base-python-38"
  },
  "language_info": {
   "codemirror_mode": {
    "name": "ipython",
    "version": 3
   },
   "file_extension": ".py",
   "mimetype": "text/x-python",
   "name": "python",
   "nbconvert_exporter": "python",
   "pygments_lexer": "ipython3",
   "version": "3.8.12"
  }
 },
 "nbformat": 4,
 "nbformat_minor": 5
}
