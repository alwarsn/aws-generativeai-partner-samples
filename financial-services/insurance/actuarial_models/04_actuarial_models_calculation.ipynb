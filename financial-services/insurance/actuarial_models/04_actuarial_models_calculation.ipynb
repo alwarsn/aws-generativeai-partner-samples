{
 "cells": [
  {
   "cell_type": "markdown",
   "metadata": {},
   "source": [
    "## Analyzing Excel Based Actuarial Models using Knowledge Bases for Amazon Bedrock\n"
   ]
  },
  {
   "cell_type": "code",
   "execution_count": null,
   "metadata": {},
   "outputs": [],
   "source": []
  },
  {
   "cell_type": "code",
   "execution_count": 2,
   "metadata": {
    "tags": []
   },
   "outputs": [
    {
     "name": "stdout",
     "output_type": "stream",
     "text": [
      "Requirement already satisfied: pip in /opt/conda/lib/python3.10/site-packages (24.2)\n",
      "\u001b[33mWARNING: Running pip as the 'root' user can result in broken permissions and conflicting behaviour with the system package manager, possibly rendering your system unusable.It is recommended to use a virtual environment instead: https://pip.pypa.io/warnings/venv. Use the --root-user-action option if you know what you are doing and want to suppress this warning.\u001b[0m\u001b[33m\n",
      "\u001b[0mNote: you may need to restart the kernel to use updated packages.\n",
      "\u001b[31mERROR: pip's dependency resolver does not currently take into account all the packages that are installed. This behaviour is the source of the following dependency conflicts.\n",
      "awscli 1.32.84 requires botocore==1.34.84, but you have botocore 1.35.33 which is incompatible.\n",
      "sagemaker 2.215.0 requires attrs<24,>=23.1.0, but you have attrs 24.2.0 which is incompatible.\n",
      "sagemaker-datawrangler 0.4.3 requires sagemaker-data-insights==0.4.0, but you have sagemaker-data-insights 0.3.3 which is incompatible.\n",
      "sphinx 7.2.6 requires docutils<0.21,>=0.18.1, but you have docutils 0.16 which is incompatible.\u001b[0m\u001b[31m\n",
      "\u001b[0m\u001b[33mWARNING: Running pip as the 'root' user can result in broken permissions and conflicting behaviour with the system package manager, possibly rendering your system unusable.It is recommended to use a virtual environment instead: https://pip.pypa.io/warnings/venv. Use the --root-user-action option if you know what you are doing and want to suppress this warning.\u001b[0m\u001b[33m\n",
      "\u001b[0mNote: you may need to restart the kernel to use updated packages.\n",
      "\u001b[31mERROR: pip's dependency resolver does not currently take into account all the packages that are installed. This behaviour is the source of the following dependency conflicts.\n",
      "awscli 1.32.84 requires botocore==1.34.84, but you have botocore 1.35.33 which is incompatible.\n",
      "sagemaker 2.215.0 requires attrs<24,>=23.1.0, but you have attrs 24.2.0 which is incompatible.\n",
      "sagemaker-datawrangler 0.4.3 requires sagemaker-data-insights==0.4.0, but you have sagemaker-data-insights 0.3.3 which is incompatible.\n",
      "sphinx 7.2.6 requires docutils<0.21,>=0.18.1, but you have docutils 0.16 which is incompatible.\u001b[0m\u001b[31m\n",
      "\u001b[0m\u001b[33mWARNING: Running pip as the 'root' user can result in broken permissions and conflicting behaviour with the system package manager, possibly rendering your system unusable.It is recommended to use a virtual environment instead: https://pip.pypa.io/warnings/venv. Use the --root-user-action option if you know what you are doing and want to suppress this warning.\u001b[0m\u001b[33m\n",
      "\u001b[0mNote: you may need to restart the kernel to use updated packages.\n",
      "\u001b[31mERROR: pip's dependency resolver does not currently take into account all the packages that are installed. This behaviour is the source of the following dependency conflicts.\n",
      "awscli 1.32.84 requires botocore==1.34.84, but you have botocore 1.35.33 which is incompatible.\n",
      "sagemaker 2.215.0 requires attrs<24,>=23.1.0, but you have attrs 24.2.0 which is incompatible.\n",
      "sagemaker-datawrangler 0.4.3 requires sagemaker-data-insights==0.4.0, but you have sagemaker-data-insights 0.3.3 which is incompatible.\n",
      "sphinx 7.2.6 requires docutils<0.21,>=0.18.1, but you have docutils 0.16 which is incompatible.\u001b[0m\u001b[31m\n",
      "\u001b[0m\u001b[33mWARNING: Running pip as the 'root' user can result in broken permissions and conflicting behaviour with the system package manager, possibly rendering your system unusable.It is recommended to use a virtual environment instead: https://pip.pypa.io/warnings/venv. Use the --root-user-action option if you know what you are doing and want to suppress this warning.\u001b[0m\u001b[33m\n",
      "\u001b[0mNote: you may need to restart the kernel to use updated packages.\n",
      "\u001b[31mERROR: pip's dependency resolver does not currently take into account all the packages that are installed. This behaviour is the source of the following dependency conflicts.\n",
      "awscli 1.32.84 requires botocore==1.34.84, but you have botocore 1.35.33 which is incompatible.\n",
      "sagemaker 2.215.0 requires attrs<24,>=23.1.0, but you have attrs 24.2.0 which is incompatible.\n",
      "sagemaker-datawrangler 0.4.3 requires sagemaker-data-insights==0.4.0, but you have sagemaker-data-insights 0.3.3 which is incompatible.\n",
      "sphinx 7.2.6 requires docutils<0.21,>=0.18.1, but you have docutils 0.16 which is incompatible.\u001b[0m\u001b[31m\n",
      "\u001b[0m\u001b[33mWARNING: Running pip as the 'root' user can result in broken permissions and conflicting behaviour with the system package manager, possibly rendering your system unusable.It is recommended to use a virtual environment instead: https://pip.pypa.io/warnings/venv. Use the --root-user-action option if you know what you are doing and want to suppress this warning.\u001b[0m\u001b[33m\n",
      "\u001b[0mNote: you may need to restart the kernel to use updated packages.\n",
      "\u001b[31mERROR: pip's dependency resolver does not currently take into account all the packages that are installed. This behaviour is the source of the following dependency conflicts.\n",
      "awscli 1.32.84 requires botocore==1.34.84, but you have botocore 1.35.33 which is incompatible.\n",
      "sagemaker 2.215.0 requires attrs<24,>=23.1.0, but you have attrs 24.2.0 which is incompatible.\n",
      "sagemaker-datawrangler 0.4.3 requires sagemaker-data-insights==0.4.0, but you have sagemaker-data-insights 0.3.3 which is incompatible.\n",
      "sphinx 7.2.6 requires docutils<0.21,>=0.18.1, but you have docutils 0.16 which is incompatible.\u001b[0m\u001b[31m\n",
      "\u001b[0m\u001b[33mWARNING: Running pip as the 'root' user can result in broken permissions and conflicting behaviour with the system package manager, possibly rendering your system unusable.It is recommended to use a virtual environment instead: https://pip.pypa.io/warnings/venv. Use the --root-user-action option if you know what you are doing and want to suppress this warning.\u001b[0m\u001b[33m\n",
      "\u001b[0mNote: you may need to restart the kernel to use updated packages.\n"
     ]
    }
   ],
   "source": [
    "%pip install --upgrade pip\n",
    "%pip install boto3 --force-reinstall --quiet\n",
    "%pip install botocore --force-reinstall --quiet\n",
    "%pip install langchain --force-reinstall --quiet\n",
    "%pip install langchain_aws --force-reinstall --quiet \n",
    "%pip install -U langchain_community --force-reinstall --quiet"
   ]
  },
  {
   "cell_type": "markdown",
   "metadata": {},
   "source": [
    "#### Restart the kernel with the updated packages that are installed through the dependencies above"
   ]
  },
  {
   "cell_type": "code",
   "execution_count": 3,
   "metadata": {
    "tags": []
   },
   "outputs": [
    {
     "data": {
      "text/html": [
       "<script>Jupyter.notebook.kernel.restart()</script>"
      ],
      "text/plain": [
       "<IPython.core.display.HTML object>"
      ]
     },
     "execution_count": 3,
     "metadata": {},
     "output_type": "execute_result"
    }
   ],
   "source": [
    "# restart kernel\n",
    "from IPython.core.display import HTML\n",
    "HTML(\"<script>Jupyter.notebook.kernel.restart()</script>\")"
   ]
  },
  {
   "cell_type": "code",
   "execution_count": 4,
   "metadata": {
    "collapsed": false,
    "jupyter": {
     "outputs_hidden": false
    },
    "tags": []
   },
   "outputs": [],
   "source": [
    "kb_id = \"5FM0C7LUFJ\""
   ]
  },
  {
   "cell_type": "markdown",
   "metadata": {},
   "source": [
    "### Follow the steps below to initiate the bedrock client:\n",
    "\n",
    "1. Import the necessary libraries, along with langchain for bedrock model selection, llama index to store the service context containing the llm and embedding model instances. We will use this service context later in the notebook for evaluating the responses from our Q&A application. \n",
    "\n",
    "2. Initialize `anthropic.claude-3-sonnet-20240229-v1:0` as our large language model to perform query completions using the RAG pattern with the given knowledge base, once we get all text chunk searches through the `retrieve` API."
   ]
  },
  {
   "cell_type": "code",
   "execution_count": 5,
   "metadata": {
    "tags": []
   },
   "outputs": [
    {
     "name": "stdout",
     "output_type": "stream",
     "text": [
      "us-west-2\n"
     ]
    }
   ],
   "source": [
    "import boto3\n",
    "import pprint\n",
    "from botocore.client import Config\n",
    "import json\n",
    "from IPython.display import Markdown, display\n",
    "\n",
    "pp = pprint.PrettyPrinter(indent=2)\n",
    "session = boto3.session.Session()\n",
    "region = session.region_name\n",
    "bedrock_config = Config(connect_timeout=120, read_timeout=120, retries={'max_attempts': 0})\n",
    "bedrock_client = boto3.client('bedrock-runtime', region_name = region)\n",
    "bedrock_agent_client = boto3.client(\"bedrock-agent-runtime\",\n",
    "                              config=bedrock_config, region_name = region)\n",
    "print(region)"
   ]
  },
  {
   "cell_type": "code",
   "execution_count": 6,
   "metadata": {
    "tags": []
   },
   "outputs": [],
   "source": [
    "def retrieve(query, kbId, numberOfResults=20):\n",
    "    return bedrock_agent_client.retrieve(\n",
    "        retrievalQuery= {\n",
    "            'text': query\n",
    "        },\n",
    "        knowledgeBaseId=kbId,\n",
    "        retrievalConfiguration= {\n",
    "            'vectorSearchConfiguration': {\n",
    "                'numberOfResults': numberOfResults,\n",
    "                'overrideSearchType': \"HYBRID\", # optional\n",
    "            }\n",
    "        }\n",
    "    )"
   ]
  },
  {
   "cell_type": "markdown",
   "metadata": {},
   "source": [
    "#### Initialize your Knowledge base id before querying responses from the initialized LLM"
   ]
  },
  {
   "cell_type": "markdown",
   "metadata": {},
   "source": [
    "Next, we will call the `retreive API`, and pass `knowledge base id`, `number of results` and `query` as paramters. \n",
    "\n",
    "`score`: You can view the associated score of each of the text chunk that was returned which depicts its correlation to the query in terms of how closely it matches it."
   ]
  },
  {
   "cell_type": "markdown",
   "metadata": {},
   "source": [
    "### Extract the text chunks from the retrieveAPI response\n",
    "\n",
    "In the cell below, we will fetch the context from the retrieval results."
   ]
  },
  {
   "cell_type": "code",
   "execution_count": 7,
   "metadata": {
    "tags": []
   },
   "outputs": [],
   "source": [
    "def get_prompt(prompt_contexts, prompt_query, prompt_excel_tab):\n",
    "    prompt = f\"\"\"\n",
    "    Human: You are an insurance actuarial model specialist, and provides answers to questions by using fact based and statistical information when possible. \n",
    "    You have vast understanding of excel and actuarial models created in excel or other actuarial systems. \n",
    "    The context and excel_tab will contain Cell, Values and Formulas. You need to understand the Cell Values and Formulas. \n",
    "    Use the following pieces of information to provide a concise answer to the question enclosed in <question> tags. \n",
    "    If you don't know the answer, just say that you don't know, don't try to make up an answer.\n",
    "\n",
    "    The goal is to identify which cells (a group of cells or individual cells) form variables for the purposes of actuarial model documentation. \n",
    "    There are two types of variables. \n",
    "    i) Model variable: A model variable has at least one cell with a formula in it. A formula is anything that is not just a number. A model variable can only contain cells from the same tab. Within the same tab, the cells are adjacent (left, right, above, below, diagonal - adjacent\n",
    "    via a corner).\n",
    "    ii) Input variable: A variable that only has numbers (not formulas at all), we call an input variable.\n",
    "\n",
    "    The provided knowledgebase has text files with exported formulas. The extracted text is in <excel_tab> tag. The Following are the rules for parsing the text files. \n",
    "    1. All formulas in a single columns represented as a one line.\n",
    "    2. Adjacent columns are generally part of a variable. \n",
    "    3. A variable will have rows and columns next to each other. For e.g. A1, B1, C1, A2, B2, C3, A3, B3, C3 etc. \n",
    "    4. If there is a blank column or multiple blank columns then it is a new variable. Hence, identify gaps or blank columns. For e.g. A1, B1, A2, B2, D1, E1, D2, E2 are two variables A:B and D:E  \n",
    "    4. A text above or just beside are name of the variable\n",
    "    5. One sheet may refer to formulas in the same sheet. If they refer to other sheet then the sheet name will be appended to the Cell for e.g. 'Sales Plan'!A2. \n",
    "    6. If there is a gap or blank row in the variable then its is a new variable. Hence, variable will not have any blank row. \n",
    "    7. You need to identify model variables and input variables. \n",
    "\n",
    "    The approach to find the model variables will be: \n",
    "    1) Identify the islands/tables first\n",
    "    2) Use knowledge of the islands you’ve found to express the relationships between the islands/tables and variables\n",
    "\n",
    "    <context>\n",
    "    {prompt_contexts}\n",
    "    </context>\n",
    "\n",
    "    <question>\n",
    "    {prompt_query}\n",
    "    </question>\n",
    "\n",
    "    <excel_tab>\n",
    "    {prompt_excel_tab}\n",
    "    </excel_tab>\n",
    "\n",
    "    The response should be specific and use your insurance knowlegde, actuarial model fundamentals, excel formulae or numbers when possible.\n",
    "\n",
    "    Assistant:\"\"\"\n",
    "    \n",
    "    return prompt\n"
   ]
  },
  {
   "cell_type": "code",
   "execution_count": 8,
   "metadata": {
    "tags": []
   },
   "outputs": [],
   "source": [
    "# fetch context from the response\n",
    "def get_contexts(retrievalResults):\n",
    "    contexts = []\n",
    "    for retrievedResult in retrievalResults: \n",
    "        contexts.append(retrievedResult['content']['text'])\n",
    "    return contexts"
   ]
  },
  {
   "cell_type": "code",
   "execution_count": 9,
   "metadata": {
    "tags": []
   },
   "outputs": [],
   "source": [
    "# payload with model paramters\n",
    "excel_tab_name = \"Calculation Engine\"\n",
    "\n",
    "excel_tab_content = \"\"\n",
    "\n",
    "query = f\"\"\"What are the tables present in the {excel_tab_name} tab\"\"\"\n",
    "\n",
    "response = retrieve(query, kb_id, 25)\n",
    "retrievalResults = response['retrievalResults']\n",
    "contexts = get_contexts(retrievalResults)\n",
    "\n",
    "prompt = get_prompt(contexts, query, excel_tab_content)\n",
    "messages=[{ \"role\":'user', \"content\":[{'type':'text','text': prompt}]}]\n",
    "sonnet_payload = json.dumps({\n",
    "    \"anthropic_version\": \"bedrock-2023-05-31\",\n",
    "    \"max_tokens\": 1024,\n",
    "    \"messages\": messages,\n",
    "    \"temperature\": 0.3,\n",
    "    \"top_p\": 1\n",
    "        }  )"
   ]
  },
  {
   "cell_type": "code",
   "execution_count": 10,
   "metadata": {
    "tags": []
   },
   "outputs": [
    {
     "data": {
      "text/markdown": [
       "Based on the information provided in the context, I can identify several key tables or groups of data present in the Calculation Engine tab:\n",
       "\n",
       "1. Policy Information Table:\n",
       "   This table appears to contain basic policy details, including:\n",
       "   - Policy number (Cell A6)\n",
       "   - Policyholder issue age (Cell A9)\n",
       "   - Policyholder sex (Cell A10)\n",
       "   - Policyholder smoking status (Cell A11)\n",
       "   - Underwriting loadings (Cell A12)\n",
       "   - Policy Cover Effective date (Cell A13)\n",
       "   - Face Value (Cell A14)\n",
       "   - Annual Premium (Cell A15)\n",
       "   - Aggregate Premium (Cell A16)\n",
       "   - Payment term (Cell A17)\n",
       "   - Frequency (Cell A18)\n",
       "   - tPx (mortality probability, Cell A19)\n",
       "   - Policy loan (Cell A20)\n",
       "   - SP / RP (Single Premium / Regular Premium indicator, Cell A21)\n",
       "   - Scalar (Cell A22)\n",
       "   - IF / NB (In Force / New Business indicator, Cell A23)\n",
       "\n",
       "2. Fund Value / Premium Funding Account Table (Cell A34)\n",
       "\n",
       "3. Model Points Table:\n",
       "   This appears to be a more detailed version of the policy information, starting from Cell B8 and including similar fields to the Policy Information Table.\n",
       "\n",
       "4. Calculation Results Table:\n",
       "   This seems to be a large table that spans multiple columns (at least from column N to AU) and many rows (at least 993). It likely contains calculated values for various policy metrics over time.\n",
       "\n",
       "5. Offset Tables:\n",
       "   There appear to be tables created using the OFFSET function, particularly referencing columns AO and AT. These might be used for time-based calculations or projections.\n",
       "\n",
       "6. Mortality Table:\n",
       "   While not explicitly mentioned, the presence of tPx suggests that there's likely a mortality table used in the calculations.\n",
       "\n",
       "These tables work together to form the core of an actuarial model, likely used for policy valuation, projection, or pricing. The model seems to calculate values on a monthly basis (references to *12 in formulas) and uses various actuarial and financial concepts typical in life insurance modeling."
      ],
      "text/plain": [
       "<IPython.core.display.Markdown object>"
      ]
     },
     "metadata": {},
     "output_type": "display_data"
    }
   ],
   "source": [
    "modelId = \"anthropic.claude-3-5-sonnet-20240620-v1:0\"\n",
    "accept = 'application/json'\n",
    "contentType = 'application/json'\n",
    "response = bedrock_client.invoke_model(body=sonnet_payload, modelId=modelId, accept=accept, contentType=contentType)\n",
    "response_body = json.loads(response.get('body').read())\n",
    "response_text = response_body.get('content')[0]['text']\n",
    "\n",
    "display(Markdown(response_text))"
   ]
  },
  {
   "cell_type": "code",
   "execution_count": 52,
   "metadata": {
    "tags": []
   },
   "outputs": [],
   "source": [
    "def truncate_text(text, start, max_words=5120):\n",
    "    # Split the text into words\n",
    "    words = text.split()\n",
    "    \n",
    "    # If the number of words is less than or equal to max_words, return the original text\n",
    "    if len(words) <= max_words:\n",
    "        return text, \"\"\n",
    "    \n",
    "    truncated_words = words[start:start+max_words]\n",
    "    remaining_words = words[start + max_words:len(words)]\n",
    "    truncated_text = ' '.join(truncated_words)\n",
    "    remaining_words = ' '.join(remaining_words)\n",
    "    \n",
    "    # Otherwise, join the first max_words and add an ellipsis\n",
    "    return truncated_text, remaining_words"
   ]
  },
  {
   "cell_type": "code",
   "execution_count": 55,
   "metadata": {},
   "outputs": [
    {
     "name": "stdout",
     "output_type": "stream",
     "text": [
      "./model_files/Calculation Engine_row.txt\n",
      "Total number of words in a file are =  173959\n",
      "Processing chunk  0\n",
      "Remaining words =  168839\n",
      "Remaining words =  168839\n",
      "Processing chunk  5120\n",
      "Remaining words =  158599\n",
      "Remaining words =  158599\n"
     ]
    }
   ],
   "source": [
    "# payload with model paramters\n",
    "\n",
    "import os\n",
    "import time\n",
    "\n",
    "# Set the directory path\n",
    "directory_path = \"./model_files\"\n",
    "\n",
    "# The following variable will be used for creation of summary and identify all input and output variables. \n",
    "Total_Response = \"\" \n",
    "\n",
    "completeFileName = f\"\"\"./model_files/{excel_tab_name}_row.txt\"\"\"\n",
    "print(completeFileName)\n",
    "file = open(completeFileName, \"r\")\n",
    "excel_tab_content = file.read()\n",
    "file.close()\n",
    "\n",
    "\n",
    "contexts = \"\"\n",
    "modelId = \"anthropic.claude-3-5-sonnet-20240620-v1:0\"\n",
    "accept = 'application/json'\n",
    "contentType = 'application/json'\n",
    "\n",
    "#excel_tab_content = truncate_text(excel_tab_content)\n",
    "\n",
    "words = excel_tab_content.split()\n",
    "print(\"Total number of words in a file are = \", len(words)) \n",
    "start = 0\n",
    "response_text = \"\"\n",
    "i = 1 \n",
    "\n",
    "while len(words) > 0 and i < 3:\n",
    "    i +=1\n",
    "    print(\"Processing chunk \", start)\n",
    "    # Truncate the text to ensure that prompt is not failing\n",
    "    excel_tab_content_part, excel_tab_content = truncate_text(excel_tab_content, start)\n",
    "    start += 5120\n",
    "    print(\"Remaining words = \", len(excel_tab_content.split()))\n",
    "    prompt = get_prompt(contexts, query, excel_tab_content_part)\n",
    "    messages=[{ \"role\":'user', \"content\":[{'type':'text','text': prompt}]}]\n",
    "    sonnet_payload = json.dumps({\n",
    "        \"anthropic_version\": \"bedrock-2023-05-31\",\n",
    "        \"max_tokens\": 1024,\n",
    "        \"messages\": messages,\n",
    "        \"temperature\": 0.4,\n",
    "        \"top_p\": 1\n",
    "            }  )\n",
    "\n",
    "    response = bedrock_client.invoke_model(body=sonnet_payload, modelId=modelId, accept=accept, contentType=contentType)\n",
    "    response_body = json.loads(response.get('body').read())\n",
    "    response_text = response_text + response_body.get('content')[0]['text']\n",
    "    #response_text += \"--\"*100\n",
    "    words = excel_tab_content.split()\n",
    "    print(\"Remaining words = \", len(words) )"
   ]
  },
  {
   "cell_type": "code",
   "execution_count": 56,
   "metadata": {},
   "outputs": [
    {
     "data": {
      "text/markdown": [
       "Based on the provided Excel tab information, I can identify several key tables present in the Calculation Engine tab:\n",
       "\n",
       "1. Policy Information Table (columns B-H):\n",
       "   This table contains basic policy details like policy number, issue age, sex, smoking status, effective date, face value, premium, payment term, and frequency.\n",
       "\n",
       "2. Demographic Rates Table (columns J-P):\n",
       "   This table calculates mortality and surrender rates. It includes CSO mortality rates, underwriting mortality rates, and surrender rates.\n",
       "\n",
       "3. Policy Values Table (columns Q-Y):\n",
       "   This table tracks the number of policies in force, policy surrender values, and reserves.\n",
       "\n",
       "4. Cash Flow Table (columns Z-AO):\n",
       "   This table calculates various cash flows including premiums, investment income, death benefits, surrender benefits, expenses, and overall profit/loss.\n",
       "\n",
       "5. Discounting Table (columns AQ-AT):\n",
       "   This table contains spot rates, forward rates, and discount factors used for present value calculations.\n",
       "\n",
       "6. Sum at Risk Table (column AU):\n",
       "   This column calculates the sum at risk for each policy.\n",
       "\n",
       "7. Policy Loan Table (column AW):\n",
       "   This column appears to track policy loan amounts, though it's noted as \"To be refined\".\n",
       "\n",
       "8. Premium Funding Account (PFA) Table (columns AZ-BC):\n",
       "   This table tracks the PFA balance, including opening balance, premium payments, closing balance, and investment income.\n",
       "\n",
       "These tables form the core structure of the actuarial model, covering key aspects such as policy details, demographic assumptions, policy values, cash flows, and financial calculations. The model appears to be a comprehensive life insurance projection model, likely used for pricing, valuation, or financial reporting purposes.Based on the provided formulas, there appear to be several key tables or groups of related calculations in the Calculation Engine tab:\n",
       "\n",
       "1. Policy Information Table (columns E-H):\n",
       "   - Tracks policy year, duration, and dates\n",
       "\n",
       "2. Mortality and Lapse Rates Table (columns J-Q):\n",
       "   - Calculates mortality rates, lapse rates, and persistency\n",
       "\n",
       "3. Account Value Calculation Table (columns S-W):\n",
       "   - Computes account value, interest, and related items\n",
       "\n",
       "4. Premium and Benefit Calculations (columns Y-AC):\n",
       "   - Calculates premiums, benefits, and related cash flows\n",
       "\n",
       "5. Expense Calculations (columns AD-AJ):\n",
       "   - Computes various policy expenses and commissions\n",
       "\n",
       "6. Cash Flow Summary (columns AL-AO):\n",
       "   - Summarizes key cash flow components\n",
       "\n",
       "7. Interest Rate and Discounting Calculations (columns AQ-AT):\n",
       "   - Calculates interest rates and discount factors\n",
       "\n",
       "8. Additional Policy Metrics (columns AU-BC):\n",
       "   - Computes various policy-related metrics and reserves\n",
       "\n",
       "These tables work together to project the financial performance of insurance policies over time, incorporating factors like mortality, lapses, expenses, and interest rates. The model appears to be a typical actuarial projection model for life insurance or annuity products."
      ],
      "text/plain": [
       "<IPython.core.display.Markdown object>"
      ]
     },
     "metadata": {},
     "output_type": "display_data"
    }
   ],
   "source": [
    "\n",
    "display(Markdown(response_text))"
   ]
  },
  {
   "cell_type": "code",
   "execution_count": 57,
   "metadata": {},
   "outputs": [
    {
     "name": "stdout",
     "output_type": "stream",
     "text": [
      "./model_files/Financial Inputs.txt\n",
      "Total number of words in a file are =  294\n",
      "Processing chunk  0\n",
      "Remaining words =  0\n",
      "Remaining words =  0\n"
     ]
    }
   ],
   "source": [
    "# payload with model paramters\n",
    "\n",
    "excel_tab_name = \"Financial Inputs\"\n",
    "\n",
    "import os\n",
    "import time\n",
    "\n",
    "# Set the directory path\n",
    "directory_path = \"./model_files\"\n",
    "\n",
    "# The following variable will be used for creation of summary and identify all input and output variables. \n",
    "Total_Response = \"\" \n",
    "\n",
    "completeFileName = f\"\"\"./model_files/{excel_tab_name}.txt\"\"\"\n",
    "print(completeFileName)\n",
    "file = open(completeFileName, \"r\")\n",
    "excel_tab_content = file.read()\n",
    "file.close()\n",
    "\n",
    "\n",
    "contexts = \"\"\n",
    "modelId = \"anthropic.claude-3-5-sonnet-20240620-v1:0\"\n",
    "accept = 'application/json'\n",
    "contentType = 'application/json'\n",
    "\n",
    "#excel_tab_content = truncate_text(excel_tab_content)\n",
    "\n",
    "words = excel_tab_content.split()\n",
    "print(\"Total number of words in a file are = \", len(words)) \n",
    "start = 0\n",
    "response_text = \"\"\n",
    "i = 1 \n",
    "\n",
    "while len(words) > 0 and i < 3:\n",
    "    i +=1\n",
    "    print(\"Processing chunk \", start)\n",
    "    # Truncate the text to ensure that prompt is not failing\n",
    "    excel_tab_content_part, excel_tab_content = truncate_text(excel_tab_content, start)\n",
    "    start += 5120\n",
    "    print(\"Remaining words = \", len(excel_tab_content.split()))\n",
    "    prompt = get_prompt(contexts, query, excel_tab_content_part)\n",
    "    messages=[{ \"role\":'user', \"content\":[{'type':'text','text': prompt}]}]\n",
    "    sonnet_payload = json.dumps({\n",
    "        \"anthropic_version\": \"bedrock-2023-05-31\",\n",
    "        \"max_tokens\": 1024,\n",
    "        \"messages\": messages,\n",
    "        \"temperature\": 0.4,\n",
    "        \"top_p\": 1\n",
    "            }  )\n",
    "\n",
    "    response = bedrock_client.invoke_model(body=sonnet_payload, modelId=modelId, accept=accept, contentType=contentType)\n",
    "    response_body = json.loads(response.get('body').read())\n",
    "    response_text = response_text + response_body.get('content')[0]['text']\n",
    "    #response_text += \"--\"*100\n",
    "    words = excel_tab_content.split()\n",
    "    print(\"Remaining words = \", len(words) )"
   ]
  },
  {
   "cell_type": "code",
   "execution_count": 58,
   "metadata": {
    "tags": []
   },
   "outputs": [
    {
     "data": {
      "text/markdown": [
       "Based on the provided information in the Excel tab \"Financial Inputs,\" I can identify the following tables present in this sheet:\n",
       "\n",
       "1. Balance Sheet Table:\n",
       "   This table appears to start at cell E3 and includes the following components:\n",
       "   - Assets (E3-E7)\n",
       "   - Liabilities (E9-E10)\n",
       "\n",
       "2. Profit & Loss Table:\n",
       "   This table starts at cell E12 and includes:\n",
       "   - Income (E13-E15)\n",
       "   - Outgo (E16-E21)\n",
       "\n",
       "3. Other Table:\n",
       "   This small table starts at cell E24 and includes:\n",
       "   - Projected Actual Expenses (E25)\n",
       "\n",
       "4. Financial Statement Structure Table:\n",
       "   This table appears to be in columns A-C, rows 3-21, providing a hierarchical structure of financial statement items (FS_BS Lvl 1, FS_BS Lvl 2, FS_BS Lvl 3).\n",
       "\n",
       "5. Year Projection Table:\n",
       "   This table is in row 2, columns H-K, showing a simple year progression formula (each cell is the previous year plus one).\n",
       "\n",
       "It's important to note that the question asks about tables in the \"Calculation Engine\" tab, but the provided Excel tab is named \"Financial Inputs.\" Therefore, I cannot definitively answer about tables in the Calculation Engine tab. The information I've provided is based on the Financial Inputs tab data given in the <excel_tab> section."
      ],
      "text/plain": [
       "<IPython.core.display.Markdown object>"
      ]
     },
     "metadata": {},
     "output_type": "display_data"
    }
   ],
   "source": [
    "\n",
    "display(Markdown(response_text))"
   ]
  },
  {
   "cell_type": "code",
   "execution_count": 59,
   "metadata": {
    "tags": []
   },
   "outputs": [
    {
     "name": "stdout",
     "output_type": "stream",
     "text": [
      "./model_files/Calculation Model Points.txt\n",
      "Total number of words in a file are =  403098\n",
      "Processing chunk  0\n",
      "Remaining words =  397978\n",
      "Remaining words =  397978\n",
      "Processing chunk  5120\n",
      "Remaining words =  387738\n",
      "Remaining words =  387738\n"
     ]
    },
    {
     "data": {
      "text/markdown": [
       "Based on the information provided in the Excel tab, I can identify the following tables present in the Calculation Engine tab:\n",
       "\n",
       "1. Year Reference Table:\n",
       "   - Located in column A, starting from cell A11 and continuing down to A1010\n",
       "   - Contains a series of years, with each subsequent year incrementing by 1\n",
       "   - Formula used: =A[previous row]+1\n",
       "\n",
       "2. Policy Type Indicator Table:\n",
       "   - Located in column B, starting from cell B11 and continuing down to B1010\n",
       "   - Uses an IF statement to determine whether a policy is In-Force (IF) or New Business (NB) based on the year\n",
       "   - Formula used: =IF(A[row]>$B$2,\"-\",IF(A[row]<=$B$3,$A$3,$A$4))\n",
       "\n",
       "3. Reference Data Table:\n",
       "   - Located in the upper part of the sheet, likely cells A1:B4 and possibly extending to column G\n",
       "   - Contains reference values for:\n",
       "     - Policy Count (cell B2)\n",
       "     - In-Force (IF) indicator (cell A3)\n",
       "     - New Business (NB) indicator (cell A4)\n",
       "     - Other reference values in cells B3 and E2:G7 (exact contents not provided)\n",
       "\n",
       "These tables form the core structure of a typical actuarial projection model, where:\n",
       "- The Year Reference Table provides the time dimension for the projection\n",
       "- The Policy Type Indicator Table distinguishes between existing (in-force) policies and new business\n",
       "- The Reference Data Table likely contains key assumptions or parameters used in the calculations\n",
       "\n",
       "The model appears to be set up to project policy counts or other metrics over a long time horizon (1000 years), which is common in long-term insurance or pension valuations. The structure allows for separate treatment of in-force business and new business, which is crucial for many actuarial analyses and financial projections in the insurance industry.Based on the provided Excel formulas in column C from rows 221 to 476, I can identify one main table or variable in the Calculation Engine tab:\n",
       "\n",
       "Policy Classification Table:\n",
       "\n",
       "This appears to be a large table that classifies policies into different categories based on certain criteria. The formula is consistent across all cells and uses nested IF statements to determine the policy type. Here's a breakdown of the logic:\n",
       "\n",
       "1. If the previous cell is \"-\", the current cell is also \"-\".\n",
       "2. If the value in column A is greater than or equal to $B$2 + 1, the result is \"-\".\n",
       "3. If the value in column A is less than or equal to $E$2, the result is \"IF Policies\".\n",
       "4. If the value in column A falls between $E$2 and $G$3, $G$4, $G$5, $G$6, or $G$7, the result is \"NB Sales Yr\" followed by a number (likely representing different years of new business sales).\n",
       "\n",
       "This table is likely used to categorize policies for actuarial calculations, possibly for determining reserves, premiums, or other policy-related metrics. The classification appears to be based on policy dates or durations (represented by values in column A) and uses various threshold values stored in cells B2, E2, G3, G4, G5, G6, and G7.\n",
       "\n",
       "The table is a model variable since it contains formulas rather than just input values. It's designed to automatically classify policies based on predefined criteria, which is a common practice in actuarial models for policy administration and valuation."
      ],
      "text/plain": [
       "<IPython.core.display.Markdown object>"
      ]
     },
     "metadata": {},
     "output_type": "display_data"
    }
   ],
   "source": [
    "excel_tab_name = \"Calculation Model Points\"\n",
    "\n",
    "import os\n",
    "import time\n",
    "\n",
    "# Set the directory path\n",
    "directory_path = \"./model_files\"\n",
    "\n",
    "# The following variable will be used for creation of summary and identify all input and output variables. \n",
    "Total_Response = \"\" \n",
    "\n",
    "completeFileName = f\"\"\"./model_files/{excel_tab_name}.txt\"\"\"\n",
    "print(completeFileName)\n",
    "file = open(completeFileName, \"r\")\n",
    "excel_tab_content = file.read()\n",
    "file.close()\n",
    "\n",
    "\n",
    "contexts = \"\"\n",
    "modelId = \"anthropic.claude-3-5-sonnet-20240620-v1:0\"\n",
    "accept = 'application/json'\n",
    "contentType = 'application/json'\n",
    "\n",
    "#excel_tab_content = truncate_text(excel_tab_content)\n",
    "\n",
    "words = excel_tab_content.split()\n",
    "print(\"Total number of words in a file are = \", len(words)) \n",
    "start = 0\n",
    "response_text = \"\"\n",
    "i = 1 \n",
    "\n",
    "while len(words) > 0 and i < 3:\n",
    "    i +=1\n",
    "    print(\"Processing chunk \", start)\n",
    "    # Truncate the text to ensure that prompt is not failing\n",
    "    excel_tab_content_part, excel_tab_content = truncate_text(excel_tab_content, start)\n",
    "    start += 5120\n",
    "    print(\"Remaining words = \", len(excel_tab_content.split()))\n",
    "    prompt = get_prompt(contexts, query, excel_tab_content_part)\n",
    "    messages=[{ \"role\":'user', \"content\":[{'type':'text','text': prompt}]}]\n",
    "    sonnet_payload = json.dumps({\n",
    "        \"anthropic_version\": \"bedrock-2023-05-31\",\n",
    "        \"max_tokens\": 1024,\n",
    "        \"messages\": messages,\n",
    "        \"temperature\": 0.4,\n",
    "        \"top_p\": 1\n",
    "            }  )\n",
    "\n",
    "    response = bedrock_client.invoke_model(body=sonnet_payload, modelId=modelId, accept=accept, contentType=contentType)\n",
    "    response_body = json.loads(response.get('body').read())\n",
    "    response_text = response_text + response_body.get('content')[0]['text']\n",
    "    #response_text += \"--\"*100\n",
    "    words = excel_tab_content.split()\n",
    "    print(\"Remaining words = \", len(words) )\n",
    "    \n",
    "display(Markdown(response_text))"
   ]
  },
  {
   "cell_type": "code",
   "execution_count": null,
   "metadata": {},
   "outputs": [],
   "source": []
  }
 ],
 "metadata": {
  "availableInstances": [
   {
    "_defaultOrder": 0,
    "_isFastLaunch": true,
    "category": "General purpose",
    "gpuNum": 0,
    "hideHardwareSpecs": false,
    "memoryGiB": 4,
    "name": "ml.t3.medium",
    "vcpuNum": 2
   },
   {
    "_defaultOrder": 1,
    "_isFastLaunch": false,
    "category": "General purpose",
    "gpuNum": 0,
    "hideHardwareSpecs": false,
    "memoryGiB": 8,
    "name": "ml.t3.large",
    "vcpuNum": 2
   },
   {
    "_defaultOrder": 2,
    "_isFastLaunch": false,
    "category": "General purpose",
    "gpuNum": 0,
    "hideHardwareSpecs": false,
    "memoryGiB": 16,
    "name": "ml.t3.xlarge",
    "vcpuNum": 4
   },
   {
    "_defaultOrder": 3,
    "_isFastLaunch": false,
    "category": "General purpose",
    "gpuNum": 0,
    "hideHardwareSpecs": false,
    "memoryGiB": 32,
    "name": "ml.t3.2xlarge",
    "vcpuNum": 8
   },
   {
    "_defaultOrder": 4,
    "_isFastLaunch": true,
    "category": "General purpose",
    "gpuNum": 0,
    "hideHardwareSpecs": false,
    "memoryGiB": 8,
    "name": "ml.m5.large",
    "vcpuNum": 2
   },
   {
    "_defaultOrder": 5,
    "_isFastLaunch": false,
    "category": "General purpose",
    "gpuNum": 0,
    "hideHardwareSpecs": false,
    "memoryGiB": 16,
    "name": "ml.m5.xlarge",
    "vcpuNum": 4
   },
   {
    "_defaultOrder": 6,
    "_isFastLaunch": false,
    "category": "General purpose",
    "gpuNum": 0,
    "hideHardwareSpecs": false,
    "memoryGiB": 32,
    "name": "ml.m5.2xlarge",
    "vcpuNum": 8
   },
   {
    "_defaultOrder": 7,
    "_isFastLaunch": false,
    "category": "General purpose",
    "gpuNum": 0,
    "hideHardwareSpecs": false,
    "memoryGiB": 64,
    "name": "ml.m5.4xlarge",
    "vcpuNum": 16
   },
   {
    "_defaultOrder": 8,
    "_isFastLaunch": false,
    "category": "General purpose",
    "gpuNum": 0,
    "hideHardwareSpecs": false,
    "memoryGiB": 128,
    "name": "ml.m5.8xlarge",
    "vcpuNum": 32
   },
   {
    "_defaultOrder": 9,
    "_isFastLaunch": false,
    "category": "General purpose",
    "gpuNum": 0,
    "hideHardwareSpecs": false,
    "memoryGiB": 192,
    "name": "ml.m5.12xlarge",
    "vcpuNum": 48
   },
   {
    "_defaultOrder": 10,
    "_isFastLaunch": false,
    "category": "General purpose",
    "gpuNum": 0,
    "hideHardwareSpecs": false,
    "memoryGiB": 256,
    "name": "ml.m5.16xlarge",
    "vcpuNum": 64
   },
   {
    "_defaultOrder": 11,
    "_isFastLaunch": false,
    "category": "General purpose",
    "gpuNum": 0,
    "hideHardwareSpecs": false,
    "memoryGiB": 384,
    "name": "ml.m5.24xlarge",
    "vcpuNum": 96
   },
   {
    "_defaultOrder": 12,
    "_isFastLaunch": false,
    "category": "General purpose",
    "gpuNum": 0,
    "hideHardwareSpecs": false,
    "memoryGiB": 8,
    "name": "ml.m5d.large",
    "vcpuNum": 2
   },
   {
    "_defaultOrder": 13,
    "_isFastLaunch": false,
    "category": "General purpose",
    "gpuNum": 0,
    "hideHardwareSpecs": false,
    "memoryGiB": 16,
    "name": "ml.m5d.xlarge",
    "vcpuNum": 4
   },
   {
    "_defaultOrder": 14,
    "_isFastLaunch": false,
    "category": "General purpose",
    "gpuNum": 0,
    "hideHardwareSpecs": false,
    "memoryGiB": 32,
    "name": "ml.m5d.2xlarge",
    "vcpuNum": 8
   },
   {
    "_defaultOrder": 15,
    "_isFastLaunch": false,
    "category": "General purpose",
    "gpuNum": 0,
    "hideHardwareSpecs": false,
    "memoryGiB": 64,
    "name": "ml.m5d.4xlarge",
    "vcpuNum": 16
   },
   {
    "_defaultOrder": 16,
    "_isFastLaunch": false,
    "category": "General purpose",
    "gpuNum": 0,
    "hideHardwareSpecs": false,
    "memoryGiB": 128,
    "name": "ml.m5d.8xlarge",
    "vcpuNum": 32
   },
   {
    "_defaultOrder": 17,
    "_isFastLaunch": false,
    "category": "General purpose",
    "gpuNum": 0,
    "hideHardwareSpecs": false,
    "memoryGiB": 192,
    "name": "ml.m5d.12xlarge",
    "vcpuNum": 48
   },
   {
    "_defaultOrder": 18,
    "_isFastLaunch": false,
    "category": "General purpose",
    "gpuNum": 0,
    "hideHardwareSpecs": false,
    "memoryGiB": 256,
    "name": "ml.m5d.16xlarge",
    "vcpuNum": 64
   },
   {
    "_defaultOrder": 19,
    "_isFastLaunch": false,
    "category": "General purpose",
    "gpuNum": 0,
    "hideHardwareSpecs": false,
    "memoryGiB": 384,
    "name": "ml.m5d.24xlarge",
    "vcpuNum": 96
   },
   {
    "_defaultOrder": 20,
    "_isFastLaunch": false,
    "category": "General purpose",
    "gpuNum": 0,
    "hideHardwareSpecs": true,
    "memoryGiB": 0,
    "name": "ml.geospatial.interactive",
    "supportedImageNames": [
     "sagemaker-geospatial-v1-0"
    ],
    "vcpuNum": 0
   },
   {
    "_defaultOrder": 21,
    "_isFastLaunch": true,
    "category": "Compute optimized",
    "gpuNum": 0,
    "hideHardwareSpecs": false,
    "memoryGiB": 4,
    "name": "ml.c5.large",
    "vcpuNum": 2
   },
   {
    "_defaultOrder": 22,
    "_isFastLaunch": false,
    "category": "Compute optimized",
    "gpuNum": 0,
    "hideHardwareSpecs": false,
    "memoryGiB": 8,
    "name": "ml.c5.xlarge",
    "vcpuNum": 4
   },
   {
    "_defaultOrder": 23,
    "_isFastLaunch": false,
    "category": "Compute optimized",
    "gpuNum": 0,
    "hideHardwareSpecs": false,
    "memoryGiB": 16,
    "name": "ml.c5.2xlarge",
    "vcpuNum": 8
   },
   {
    "_defaultOrder": 24,
    "_isFastLaunch": false,
    "category": "Compute optimized",
    "gpuNum": 0,
    "hideHardwareSpecs": false,
    "memoryGiB": 32,
    "name": "ml.c5.4xlarge",
    "vcpuNum": 16
   },
   {
    "_defaultOrder": 25,
    "_isFastLaunch": false,
    "category": "Compute optimized",
    "gpuNum": 0,
    "hideHardwareSpecs": false,
    "memoryGiB": 72,
    "name": "ml.c5.9xlarge",
    "vcpuNum": 36
   },
   {
    "_defaultOrder": 26,
    "_isFastLaunch": false,
    "category": "Compute optimized",
    "gpuNum": 0,
    "hideHardwareSpecs": false,
    "memoryGiB": 96,
    "name": "ml.c5.12xlarge",
    "vcpuNum": 48
   },
   {
    "_defaultOrder": 27,
    "_isFastLaunch": false,
    "category": "Compute optimized",
    "gpuNum": 0,
    "hideHardwareSpecs": false,
    "memoryGiB": 144,
    "name": "ml.c5.18xlarge",
    "vcpuNum": 72
   },
   {
    "_defaultOrder": 28,
    "_isFastLaunch": false,
    "category": "Compute optimized",
    "gpuNum": 0,
    "hideHardwareSpecs": false,
    "memoryGiB": 192,
    "name": "ml.c5.24xlarge",
    "vcpuNum": 96
   },
   {
    "_defaultOrder": 29,
    "_isFastLaunch": true,
    "category": "Accelerated computing",
    "gpuNum": 1,
    "hideHardwareSpecs": false,
    "memoryGiB": 16,
    "name": "ml.g4dn.xlarge",
    "vcpuNum": 4
   },
   {
    "_defaultOrder": 30,
    "_isFastLaunch": false,
    "category": "Accelerated computing",
    "gpuNum": 1,
    "hideHardwareSpecs": false,
    "memoryGiB": 32,
    "name": "ml.g4dn.2xlarge",
    "vcpuNum": 8
   },
   {
    "_defaultOrder": 31,
    "_isFastLaunch": false,
    "category": "Accelerated computing",
    "gpuNum": 1,
    "hideHardwareSpecs": false,
    "memoryGiB": 64,
    "name": "ml.g4dn.4xlarge",
    "vcpuNum": 16
   },
   {
    "_defaultOrder": 32,
    "_isFastLaunch": false,
    "category": "Accelerated computing",
    "gpuNum": 1,
    "hideHardwareSpecs": false,
    "memoryGiB": 128,
    "name": "ml.g4dn.8xlarge",
    "vcpuNum": 32
   },
   {
    "_defaultOrder": 33,
    "_isFastLaunch": false,
    "category": "Accelerated computing",
    "gpuNum": 4,
    "hideHardwareSpecs": false,
    "memoryGiB": 192,
    "name": "ml.g4dn.12xlarge",
    "vcpuNum": 48
   },
   {
    "_defaultOrder": 34,
    "_isFastLaunch": false,
    "category": "Accelerated computing",
    "gpuNum": 1,
    "hideHardwareSpecs": false,
    "memoryGiB": 256,
    "name": "ml.g4dn.16xlarge",
    "vcpuNum": 64
   },
   {
    "_defaultOrder": 35,
    "_isFastLaunch": false,
    "category": "Accelerated computing",
    "gpuNum": 1,
    "hideHardwareSpecs": false,
    "memoryGiB": 61,
    "name": "ml.p3.2xlarge",
    "vcpuNum": 8
   },
   {
    "_defaultOrder": 36,
    "_isFastLaunch": false,
    "category": "Accelerated computing",
    "gpuNum": 4,
    "hideHardwareSpecs": false,
    "memoryGiB": 244,
    "name": "ml.p3.8xlarge",
    "vcpuNum": 32
   },
   {
    "_defaultOrder": 37,
    "_isFastLaunch": false,
    "category": "Accelerated computing",
    "gpuNum": 8,
    "hideHardwareSpecs": false,
    "memoryGiB": 488,
    "name": "ml.p3.16xlarge",
    "vcpuNum": 64
   },
   {
    "_defaultOrder": 38,
    "_isFastLaunch": false,
    "category": "Accelerated computing",
    "gpuNum": 8,
    "hideHardwareSpecs": false,
    "memoryGiB": 768,
    "name": "ml.p3dn.24xlarge",
    "vcpuNum": 96
   },
   {
    "_defaultOrder": 39,
    "_isFastLaunch": false,
    "category": "Memory Optimized",
    "gpuNum": 0,
    "hideHardwareSpecs": false,
    "memoryGiB": 16,
    "name": "ml.r5.large",
    "vcpuNum": 2
   },
   {
    "_defaultOrder": 40,
    "_isFastLaunch": false,
    "category": "Memory Optimized",
    "gpuNum": 0,
    "hideHardwareSpecs": false,
    "memoryGiB": 32,
    "name": "ml.r5.xlarge",
    "vcpuNum": 4
   },
   {
    "_defaultOrder": 41,
    "_isFastLaunch": false,
    "category": "Memory Optimized",
    "gpuNum": 0,
    "hideHardwareSpecs": false,
    "memoryGiB": 64,
    "name": "ml.r5.2xlarge",
    "vcpuNum": 8
   },
   {
    "_defaultOrder": 42,
    "_isFastLaunch": false,
    "category": "Memory Optimized",
    "gpuNum": 0,
    "hideHardwareSpecs": false,
    "memoryGiB": 128,
    "name": "ml.r5.4xlarge",
    "vcpuNum": 16
   },
   {
    "_defaultOrder": 43,
    "_isFastLaunch": false,
    "category": "Memory Optimized",
    "gpuNum": 0,
    "hideHardwareSpecs": false,
    "memoryGiB": 256,
    "name": "ml.r5.8xlarge",
    "vcpuNum": 32
   },
   {
    "_defaultOrder": 44,
    "_isFastLaunch": false,
    "category": "Memory Optimized",
    "gpuNum": 0,
    "hideHardwareSpecs": false,
    "memoryGiB": 384,
    "name": "ml.r5.12xlarge",
    "vcpuNum": 48
   },
   {
    "_defaultOrder": 45,
    "_isFastLaunch": false,
    "category": "Memory Optimized",
    "gpuNum": 0,
    "hideHardwareSpecs": false,
    "memoryGiB": 512,
    "name": "ml.r5.16xlarge",
    "vcpuNum": 64
   },
   {
    "_defaultOrder": 46,
    "_isFastLaunch": false,
    "category": "Memory Optimized",
    "gpuNum": 0,
    "hideHardwareSpecs": false,
    "memoryGiB": 768,
    "name": "ml.r5.24xlarge",
    "vcpuNum": 96
   },
   {
    "_defaultOrder": 47,
    "_isFastLaunch": false,
    "category": "Accelerated computing",
    "gpuNum": 1,
    "hideHardwareSpecs": false,
    "memoryGiB": 16,
    "name": "ml.g5.xlarge",
    "vcpuNum": 4
   },
   {
    "_defaultOrder": 48,
    "_isFastLaunch": false,
    "category": "Accelerated computing",
    "gpuNum": 1,
    "hideHardwareSpecs": false,
    "memoryGiB": 32,
    "name": "ml.g5.2xlarge",
    "vcpuNum": 8
   },
   {
    "_defaultOrder": 49,
    "_isFastLaunch": false,
    "category": "Accelerated computing",
    "gpuNum": 1,
    "hideHardwareSpecs": false,
    "memoryGiB": 64,
    "name": "ml.g5.4xlarge",
    "vcpuNum": 16
   },
   {
    "_defaultOrder": 50,
    "_isFastLaunch": false,
    "category": "Accelerated computing",
    "gpuNum": 1,
    "hideHardwareSpecs": false,
    "memoryGiB": 128,
    "name": "ml.g5.8xlarge",
    "vcpuNum": 32
   },
   {
    "_defaultOrder": 51,
    "_isFastLaunch": false,
    "category": "Accelerated computing",
    "gpuNum": 1,
    "hideHardwareSpecs": false,
    "memoryGiB": 256,
    "name": "ml.g5.16xlarge",
    "vcpuNum": 64
   },
   {
    "_defaultOrder": 52,
    "_isFastLaunch": false,
    "category": "Accelerated computing",
    "gpuNum": 4,
    "hideHardwareSpecs": false,
    "memoryGiB": 192,
    "name": "ml.g5.12xlarge",
    "vcpuNum": 48
   },
   {
    "_defaultOrder": 53,
    "_isFastLaunch": false,
    "category": "Accelerated computing",
    "gpuNum": 4,
    "hideHardwareSpecs": false,
    "memoryGiB": 384,
    "name": "ml.g5.24xlarge",
    "vcpuNum": 96
   },
   {
    "_defaultOrder": 54,
    "_isFastLaunch": false,
    "category": "Accelerated computing",
    "gpuNum": 8,
    "hideHardwareSpecs": false,
    "memoryGiB": 768,
    "name": "ml.g5.48xlarge",
    "vcpuNum": 192
   },
   {
    "_defaultOrder": 55,
    "_isFastLaunch": false,
    "category": "Accelerated computing",
    "gpuNum": 8,
    "hideHardwareSpecs": false,
    "memoryGiB": 1152,
    "name": "ml.p4d.24xlarge",
    "vcpuNum": 96
   },
   {
    "_defaultOrder": 56,
    "_isFastLaunch": false,
    "category": "Accelerated computing",
    "gpuNum": 8,
    "hideHardwareSpecs": false,
    "memoryGiB": 1152,
    "name": "ml.p4de.24xlarge",
    "vcpuNum": 96
   },
   {
    "_defaultOrder": 57,
    "_isFastLaunch": false,
    "category": "Accelerated computing",
    "gpuNum": 0,
    "hideHardwareSpecs": false,
    "memoryGiB": 32,
    "name": "ml.trn1.2xlarge",
    "vcpuNum": 8
   },
   {
    "_defaultOrder": 58,
    "_isFastLaunch": false,
    "category": "Accelerated computing",
    "gpuNum": 0,
    "hideHardwareSpecs": false,
    "memoryGiB": 512,
    "name": "ml.trn1.32xlarge",
    "vcpuNum": 128
   },
   {
    "_defaultOrder": 59,
    "_isFastLaunch": false,
    "category": "Accelerated computing",
    "gpuNum": 0,
    "hideHardwareSpecs": false,
    "memoryGiB": 512,
    "name": "ml.trn1n.32xlarge",
    "vcpuNum": 128
   }
  ],
  "instance_type": "ml.t3.medium",
  "kernelspec": {
   "display_name": "Python 3 (Data Science 3.0)",
   "language": "python",
   "name": "python3__SAGEMAKER_INTERNAL__arn:aws:sagemaker:us-west-2:236514542706:image/sagemaker-data-science-310-v1"
  },
  "language_info": {
   "codemirror_mode": {
    "name": "ipython",
    "version": 3
   },
   "file_extension": ".py",
   "mimetype": "text/x-python",
   "name": "python",
   "nbconvert_exporter": "python",
   "pygments_lexer": "ipython3",
   "version": "3.10.6"
  }
 },
 "nbformat": 4,
 "nbformat_minor": 4
}
