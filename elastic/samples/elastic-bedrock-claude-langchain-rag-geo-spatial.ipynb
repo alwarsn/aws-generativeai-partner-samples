{
 "cells": [
  {
   "cell_type": "markdown",
   "metadata": {},
   "source": [
    "# Geo spatial Retrieval Augmented Generation using Hybrid search retrieval using Elastic, Anthropic Claude 3, Amazon Bedrock and Langchain"
   ]
  },
  {
   "cell_type": "markdown",
   "metadata": {},
   "source": [
    "## Introduction\n",
    "\n",
    "In this notebook we will show you how to use Elastic search, Amazon Bedrock, Anthropic Claude 3 and Langchain to build a Retrieval Augmented Generation (RAG) solution that leverages Geospatial features of Elastic.\n",
    "\n",
    "### Use case\n",
    "This notebook introduces an interactive AI agent designed to assist with real estate inquiries. Users looking to purchase properties, such as townhomes, condos, or single-family homes, in specific locations (e.g., New York, NY or Cupertino, CA) can use the agent to find listings that match their preferences. These preferences can include factors like city, distance, property type, and desired amenities such as a swimming pool or lawn.\n",
    "\n",
    "### Implementation\n",
    "In this notebook, we'll demonstrate how to build a geospatial RAG (Retrieval-Augmented Generation) application using Elastic's geospatial capabilities in combination with LLMs from the Amazon Bedrock platform. The tools we'll use include Elasticsearch, the Anthropic Claude 3 Sonnet Foundation model, Amazon Bedrock, and Langchain. Additionally, we'll integrate Amazon Location Service for geocoding physical addresses and Amazon Simple Email Service (SES) to send property listing recommendations to users.\n"
   ]
  },
  {
   "cell_type": "markdown",
   "metadata": {},
   "source": [
    "#### Python 3.10\n",
    "\n",
    "⚠  For this lab we need to run the notebook based on a Python 3.10 runtime. ⚠\n",
    "\n",
    "\n",
    "## Installation\n",
    "\n",
    "To run this notebook you would need to install dependencies - boto3, botocore, elasticsearch and langchain."
   ]
  },
  {
   "cell_type": "code",
   "execution_count": null,
   "metadata": {
    "tags": [],
    "vscode": {
     "languageId": "plaintext"
    }
   },
   "outputs": [],
   "source": [
    "%pip install --upgrade pip\n",
    "%pip install boto3 --force-reinstall --quiet\n",
    "%pip install botocore --force-reinstall --quiet\n",
    "%pip install langchain --force-reinstall --quiet\n",
    "%pip install langchain_community --force-reinstall --quiet\n",
    "%pip install langchain-elasticsearch --force-reinstall --quiet\n",
    "%pip install elasticsearch --force-reinstall --quiet\n",
    "%pip install unstructured==0.7.12 --force-reinstall --quiet\n",
    "%pip install prettytable --force-reinstall --quiet"
   ]
  },
  {
   "cell_type": "markdown",
   "metadata": {},
   "source": [
    "## Kernel Restart\n",
    "\n",
    "Restart the kernel with the updated packages that are installed through the dependencies above"
   ]
  },
  {
   "cell_type": "code",
   "execution_count": null,
   "metadata": {
    "tags": []
   },
   "outputs": [],
   "source": [
    "# restart kernel\n",
    "from IPython.core.display import HTML\n",
    "HTML(\"<script>Jupyter.notebook.kernel.restart()</script>\")"
   ]
  },
  {
   "cell_type": "markdown",
   "metadata": {},
   "source": [
    "### Troubleshooting Flag\n",
    "\n",
    "Use this `debug` flag and turn it to `True` if you would like to see more troubleshooting verbose generated. Otherwise, leave it as `False` value."
   ]
  },
  {
   "cell_type": "code",
   "execution_count": null,
   "metadata": {},
   "outputs": [],
   "source": [
    "debug = False;"
   ]
  },
  {
   "cell_type": "markdown",
   "metadata": {
    "vscode": {
     "languageId": "plaintext"
    }
   },
   "source": [
    "## Setup \n",
    "\n",
    "Import the necessary libraries"
   ]
  },
  {
   "cell_type": "code",
   "execution_count": 3,
   "metadata": {
    "tags": [],
    "vscode": {
     "languageId": "plaintext"
    }
   },
   "outputs": [],
   "source": [
    "import json\n",
    "import os\n",
    "import sys\n",
    "import boto3\n",
    "import botocore\n",
    "import nltk\n",
    "from langchain_core.output_parsers import StrOutputParser\n",
    "from langchain_core.prompts import ChatPromptTemplate\n",
    "from langchain_community.chat_models.bedrock import BedrockChat\n",
    "from langchain.embeddings import BedrockEmbeddings\n",
    "from botocore.client import Config\n",
    "from langchain_community.retrievers import AmazonKnowledgeBasesRetriever\n",
    "from langchain.text_splitter import RecursiveCharacterTextSplitter\n",
    "from langchain_elasticsearch import ElasticsearchStore\n",
    "from elasticsearch import Elasticsearch\n",
    "from elasticsearch.helpers import bulk\n",
    "from langchain.schema.runnable import RunnablePassthrough\n",
    "from langchain.chains import RetrievalQA\n",
    "from getpass import getpass\n",
    "from langchain.prompts import PromptTemplate\n",
    "from langchain.document_loaders import DirectoryLoader\n",
    "from pathlib import Path\n",
    "from typing import Dict\n",
    "from langchain_elasticsearch import ElasticsearchRetriever"
   ]
  },
  {
   "cell_type": "markdown",
   "metadata": {},
   "source": [
    "## Geospatial Data indexing in to Elastic"
   ]
  },
  {
   "cell_type": "markdown",
   "metadata": {},
   "source": [
    "### Connecting to Elastic Endpoints\n",
    "\n",
    "We'll use the Cloud ID to identify our deployment, because we are using Elastic Cloud deployment. To find the Cloud ID for your deployment, go to [Cloud ID](https://cloud.elastic.co/deployments) and select your deployment.\n",
    "\n",
    "We will use Elasticsearch to connect to our elastic cloud deployment. This would help create and index data easily. "
   ]
  },
  {
   "cell_type": "code",
   "execution_count": 19,
   "metadata": {
    "tags": []
   },
   "outputs": [
    {
     "name": "stdin",
     "output_type": "stream",
     "text": [
      "Elastic deployment Cloud ID:  ········\n",
      "Elastic deployment API Key:  ········\n"
     ]
    }
   ],
   "source": [
    "from elasticsearch import Elasticsearch\n",
    "\n",
    "cloud_id = getpass(\"Elastic deployment Cloud ID: \")\n",
    "cloud_api_key = getpass(\"Elastic deployment API Key: \")\n",
    "index_name = 'geo_spatial_test3'  # Choose an appropriate index name\n",
    "\n",
    "\n",
    "els_client = Elasticsearch(\n",
    "    cloud_id=cloud_id,\n",
    "    api_key=cloud_api_key\n",
    ")"
   ]
  },
  {
   "cell_type": "markdown",
   "metadata": {},
   "source": [
    "### Real Estate Property Data\n",
    "`data.json` file has all of the data related to Real Estate properties. The data is fabricated and created for demo purposes. While the geographic coordinates factually exists and is real, the rest of the data is purely synthetic and created for the learning purposes. \n",
    "\n",
    "Currently the data is created for the following cities:\n",
    "- Frisco, TX\n",
    "- Cupertino, CA\n",
    "\n",
    "Property Types are:\n",
    "- Townhomes\n",
    "- Condos\n",
    "- Multi Family\n",
    "- Single Family Residence\n"
   ]
  },
  {
   "cell_type": "code",
   "execution_count": 76,
   "metadata": {
    "tags": []
   },
   "outputs": [],
   "source": [
    "FILE = \"data.json\"\n",
    "\n",
    "\n",
    "metadata_keys = ['propertyId','propertyName' ,'propertyAddress', 'propertyCity', 'propertyState', 'propertyZip', 'propertyType', 'propertyCoordinates', 'propertyFeatures']\n",
    "documents = []\n",
    "with open(FILE, 'rt') as f:\n",
    "    for doc in json.loads(f.read()):\n",
    "        metadata={k: doc.get(k) for k in metadata_keys}        \n",
    "        action = {\n",
    "           \"_index\": index_name,\n",
    "           \"_source\": metadata\n",
    "        }\n",
    "        documents.append(action)"
   ]
  },
  {
   "cell_type": "markdown",
   "metadata": {},
   "source": [
    "### Data Schema\n",
    "The following mappings define the data model for the data this will be indexed in Elasticsearch. Notice that `propertyCoordinates` is of type `geo_point` which indicates that it will store the geographic coordinates in the form of `longitude` and `latitude`."
   ]
  },
  {
   "cell_type": "code",
   "execution_count": 77,
   "metadata": {
    "tags": []
   },
   "outputs": [],
   "source": [
    "mapping = {\n",
    "  \"mappings\": {\n",
    "    \"properties\": {\n",
    "      \"propertyName\": {\n",
    "        \"type\": \"text\"\n",
    "      },\n",
    "      \"propertyAddress\": {\n",
    "        \"type\": \"text\"\n",
    "      },\n",
    "      \"propertyCity\": {\n",
    "        \"type\": \"text\"\n",
    "      },\n",
    "      \"propertyCoordinates\": {\n",
    "        \"type\": \"geo_point\"\n",
    "      },\n",
    "      \"propertyFeatures\": {\n",
    "        \"type\": \"text\"\n",
    "      },\n",
    "      \"propertyId\": {\n",
    "        \"type\": \"long\"\n",
    "      },\n",
    "      \"propertyState\": {\n",
    "        \"type\": \"text\"\n",
    "      },\n",
    "      \"propertyType\": {\n",
    "        \"type\": \"text\"\n",
    "      },\n",
    "      \"propertyZip\": {\n",
    "        \"type\": \"text\"\n",
    "      }\n",
    "    }\n",
    "  }\n",
    "}"
   ]
  },
  {
   "cell_type": "markdown",
   "metadata": {},
   "source": [
    "### Indexing\n",
    "First we will delete the index and data to create a clean slate to load data afresh.\n",
    "Next we will create the index and bulk load all of the data."
   ]
  },
  {
   "cell_type": "code",
   "execution_count": 78,
   "metadata": {
    "tags": []
   },
   "outputs": [
    {
     "data": {
      "text/plain": [
       "ObjectApiResponse({'acknowledged': True})"
      ]
     },
     "execution_count": 78,
     "metadata": {},
     "output_type": "execute_result"
    }
   ],
   "source": [
    "# Delete the index first\n",
    "els_client.indices.delete(index=index_name, ignore_unavailable=True)"
   ]
  },
  {
   "cell_type": "code",
   "execution_count": null,
   "metadata": {
    "tags": []
   },
   "outputs": [],
   "source": [
    "# Create the index with the mapping\n",
    "els_client.indices.create(index=index_name, body=mapping, ignore=400)"
   ]
  },
  {
   "cell_type": "code",
   "execution_count": 80,
   "metadata": {
    "tags": []
   },
   "outputs": [],
   "source": [
    "#Perform bulk indexing\n",
    "success, failure = bulk(els_client, documents)"
   ]
  },
  {
   "cell_type": "markdown",
   "metadata": {
    "vscode": {
     "languageId": "plaintext"
    }
   },
   "source": [
    "## Initialization\n",
    "\n",
    "Initiate Bedrock Runtime and BedrockChat"
   ]
  },
  {
   "cell_type": "code",
   "execution_count": 81,
   "metadata": {
    "tags": []
   },
   "outputs": [],
   "source": [
    "bedrock_config = Config(connect_timeout=120, read_timeout=120, retries={'max_attempts': 0})\n",
    "bedrock_client = boto3.client('bedrock-runtime')\n",
    "\n",
    "modelId = 'anthropic.claude-instant-v1' # change this to use a different version from the model provider\n",
    "\n",
    "embeddingmodelId = 'amazon.titan-embed-text-v1' # change this to use a different embedding model\n",
    "\n",
    "llm = BedrockChat(model_id=modelId, client=bedrock_client)\n",
    "embeddings = BedrockEmbeddings(model_id=embeddingmodelId,client=bedrock_client)"
   ]
  },
  {
   "cell_type": "markdown",
   "metadata": {
    "tags": []
   },
   "source": [
    "## Entity Extraction from the prompt\n",
    "\n",
    "Here we will do the extraction of :\n",
    "* address\n",
    "* property type\n",
    "* radius within which the customer is looking for a property\n",
    "* additional property features that the customer is looking for (optional)\n",
    "\n",
    "from the user prompt."
   ]
  },
  {
   "cell_type": "code",
   "execution_count": 82,
   "metadata": {
    "tags": []
   },
   "outputs": [],
   "source": [
    "user_prompt_template = \"\"\"\n",
    "Human: You will be acting as a Real estate realtor. Your end users will ask questions about finding properties near to a specific location given in the form of an address. This address may sometimes contains the Street number, Street Name, City name, State name and zip code. If the country name is not mentioned, consider it as USA.  For the prompt, extract the longitude and latitude information by geocoding.\n",
    "\n",
    "For example, for the prompt below:\n",
    "\n",
    "<prompt>\n",
    "Get me townhomes within 5 miles near 2379 Flicker Street, Frisco, TX 75034. I want the townhome to have a swimming pool in the backyard and kitchen bigger.\n",
    "</prompt>\n",
    "\n",
    "Based on the above prompt, the property type the user is looking for is : townhomes. Return this as search_property_type in the JSON output.\n",
    "address is : 2379 Flicker Street, Frisco, TX 75034. Return this as search_property_address in the JSON output.\n",
    "radius is : 5mi\n",
    "Return this as search_property_radius in the JSON output.\n",
    "property features are :  townhome to have a swimming pool in the backyard and a bigger kitchen. \n",
    "Return this as search_property_features in the JSON output.\n",
    "\n",
    "The address component may or may not have all the street, city , state or zipcode portion. Extract whatever is available.\n",
    "If the property type is not mentioned, default the value as \"Single Family Residence\".\n",
    "If the property type is mentioned anything like house or single family or residence, then emit the value as \"Single Family Residence\".\n",
    "If the property type is mentioned anything close to town home or townhouse etc, then emit the value as \"Townhouse\".\n",
    "If the property type is mentioned anything close to multi family or duplex or multiple family, then emit the value as \"Multi Family\".\n",
    "If the property type is mentioned anything like Condomonium or Condo or condos etc, then emit the value as \"Condos\".\n",
    "If the property type value is not determinable always default the value as \"Single Family Residence\".\n",
    "\n",
    "The radius component may be expressed in miles or in kilometers. Output should in the format like 5mi or 5km depending upon the unit of measure used - miles or kilometers. If no radius component is found, default it to 6mi.\n",
    "If property features are not found, return it as 'Nil'.\n",
    "Return these entities in a JSON output format as a python JSON variable I can use. Do not output any other verbose.\n",
    "\n",
    "Here is the user’s question: <question> {question} </question>\n",
    "\n",
    "How do you respond to the user’s question?\n",
    "Think about your answer first before you respond. Give your response in JSON format and exclude any other additional verbose.\n",
    "Assistant:\n",
    "\"\"\""
   ]
  },
  {
   "cell_type": "code",
   "execution_count": 104,
   "metadata": {
    "tags": []
   },
   "outputs": [],
   "source": [
    "def extract_entities(question):\n",
    "    prompt_template = PromptTemplate(template=user_prompt_template, input_variables=[\"question\"])\n",
    "    prompt = prompt_template.format (question=question)\n",
    "\n",
    "    body = json.dumps({\"prompt\": prompt, \"max_tokens_to_sample\": 3000})\n",
    "    accept = 'application/json'\n",
    "    contentType = 'application/json'\n",
    "    extracted_entities = {}\n",
    "\n",
    "    try:\n",
    "        response = bedrock_client.invoke_model(body=body, modelId=modelId, accept=accept, contentType=contentType)\n",
    "        response_body = json.loads(response.get('body').read())\n",
    "\n",
    "        # print(response_body.get('completion'))\n",
    "        extracted_entities = response_body.get('completion')\n",
    "        print(\"*** Extracted Entities from the prompt are: ***\")\n",
    "        print(extracted_entities)\n",
    "\n",
    "    except botocore.exceptions.ClientError as error:\n",
    "\n",
    "        if error.response[\"Error\"][\"Code\"] == \"AccessDeniedException\":\n",
    "            print(\n",
    "                f\"\\x1b[41m{error.response['Error']['Message']}\\\n",
    "                    \\nTo troubeshoot this issue please refer to the following resources.\\\n",
    "                     \\nhttps://docs.aws.amazon.com/IAM/latest/UserGuide/troubleshoot_access-denied.html\\\n",
    "                     \\nhttps://docs.aws.amazon.com/bedrock/latest/userguide/security-iam.html\\x1b[0m\\n\"\n",
    "            )\n",
    "\n",
    "        else:\n",
    "            raise error\n",
    "\n",
    "    #qa_chain = RetrievalQA.from_chain_type(llm=llm, chain_type=\"stuff\",retriever=retriever, return_source_documents=True, chain_type_kwargs={\"prompt\": prompt})\n",
    "\n",
    "    return extracted_entities"
   ]
  },
  {
   "cell_type": "markdown",
   "metadata": {
    "tags": []
   },
   "source": [
    "## AWS Location Services for Geocoding\n",
    "Here we will leverage AWS location services for geocoding. \n",
    "Geocoding is the process of converting addresses (like a street address) into geographic coordinates (latitude and longitude), which can be used to place markers on a map or identify locations in spatial data. It helps map a physical location, such as \"1600 Pennsylvania Ave NW, Washington, D.C.,\" into its corresponding geographic coordinates, enabling applications like GPS navigation, location-based services, or geographic information systems (GIS).\n",
    "\n",
    "### Why are we geocoding?\n",
    "The purpose of geocoding is to convert the extracted geographical location from the user prompt in to longitude and latitude, so that these coordinates can be used to search for real estate properties data in Elastic."
   ]
  },
  {
   "cell_type": "code",
   "execution_count": 85,
   "metadata": {
    "tags": []
   },
   "outputs": [],
   "source": [
    "# Initialize the AWS Location Service client\n",
    "location_client = boto3.client('location')\n",
    "\n",
    "def invoke_aws_loc_service(address, index_name='explore.place.Esri'):\n",
    "    \n",
    "    if address is None or address == \"\":\n",
    "        print(\"Address is None or empty\")\n",
    "        return None\n",
    "\n",
    "    try:\n",
    "        # Call the search_place_index_for_text method\n",
    "        response = location_client.search_place_index_for_text(\n",
    "            IndexName=index_name,\n",
    "            Text=address\n",
    "        )\n",
    "\n",
    "        # Extract the first result (assuming it's the most relevant)\n",
    "        if response['Results']:\n",
    "            place = response['Results'][0]['Place']\n",
    "            longitude, latitude = place['Geometry']['Point']\n",
    "            \n",
    "            return {\n",
    "                'address': address,\n",
    "                'longitude': longitude,\n",
    "                'latitude': latitude,\n",
    "                'label': place.get('Label', ''),\n",
    "                'country': place.get('Country', '')\n",
    "            }\n",
    "        else:\n",
    "            return None\n",
    "\n",
    "    except Exception as e:\n",
    "        print(f\"An error occurred: {str(e)}\")\n",
    "        return None\n"
   ]
  },
  {
   "cell_type": "markdown",
   "metadata": {},
   "source": [
    "## Run Geospatial Elastic Query\n",
    "\n",
    "Now that we geocoded the search location, we will pass that to the elastic query, to search for properties that existing within a distance radius of user prefered location.  We will also pass the search property type (like townhome, single family residence etc) to the query so that we find the exact property that the user is looking for. "
   ]
  },
  {
   "cell_type": "code",
   "execution_count": 113,
   "metadata": {
    "tags": []
   },
   "outputs": [],
   "source": [
    "def run_elastic_geospatial_query (geo_coded_lat, geo_coded_long, search_property_radius,search_property_type, index_name):\n",
    "    resp = els_client.search (\n",
    "        index=index_name,\n",
    "        query= {\n",
    "            \"bool\": {\n",
    "                \"must\": [\n",
    "                    { \"match\": { \"propertyType\": search_property_type }}\n",
    "                ],\n",
    "                \"filter\": [\n",
    "                    {\n",
    "                        \"geo_distance\" : {\n",
    "                            \"distance\": search_property_radius, \"propertyCoordinates\": {\"lat\": geo_coded_lat, \"lon\": geo_coded_long }\n",
    "                        }\n",
    "                    }\n",
    "                ]\n",
    "            }\n",
    "        }\n",
    "    )\n",
    "    return resp\n"
   ]
  },
  {
   "cell_type": "markdown",
   "metadata": {
    "tags": []
   },
   "source": [
    "## Geospatial RAG in action\n",
    "\n",
    "The real estate properties data found from Elastic is now passed as an additional context to the LLM via Amazon Bedrock, to perform RAG. "
   ]
  },
  {
   "cell_type": "code",
   "execution_count": 107,
   "metadata": {
    "tags": []
   },
   "outputs": [],
   "source": [
    "def run_geospatial_rag(question, context):\n",
    "    user_recommendation_template = \"\"\"\n",
    "Human: You will be acting as a Real estate realtor. Your end users will ask questions about finding properties near to a specific location given in the form of an address. This address may sometimes contains the Street number, Street Name, City name, State name and zip code. If the country name is not mentioned, consider it as USA.  \n",
    "\n",
    "You will answer only based on the context given: <context>{context}</context>\n",
    "Here are some important rules for the interaction:\n",
    "- Always stay in character of being a Real estate advisor, trying to help find properties.\n",
    "- If you are unsure how to respond, say “Sorry, I didn’t understand that. Could you repeat the question?”\n",
    "- If someone asks something irrelevant, say, “Sorry, I don't know.”\n",
    "\n",
    "Here is the user’s question: <question> {question} </question>\n",
    "Go ahead and answer.\n",
    "Assistant:\n",
    "    \"\"\"\n",
    "\n",
    "    recommendation_template = PromptTemplate(template=user_recommendation_template, input_variables=[\"context\", \"question\"])\n",
    "    prompt = recommendation_template.format (question=question,context=context)\n",
    "    \n",
    "    body = json.dumps({\"prompt\": prompt, \"max_tokens_to_sample\": 10000})\n",
    "    accept = 'application/json'\n",
    "    contentType = 'application/json'\n",
    "    extracted_entities = {}\n",
    "\n",
    "    try:\n",
    "        response = bedrock_client.invoke_model(body=body, modelId=modelId, accept=accept, contentType=contentType)\n",
    "        response_body = json.loads(response.get('body').read())\n",
    "\n",
    "        if debug:\n",
    "            print(response_body.get('completion'))\n",
    "        return response_body.get('completion')\n",
    "        \n",
    "\n",
    "    except botocore.exceptions.ClientError as error:\n",
    "\n",
    "        if error.response[\"Error\"][\"Code\"] == \"AccessDeniedException\":\n",
    "            print(\n",
    "                f\"\\x1b[41m{error.response['Error']['Message']}\\\n",
    "                    \\nTo troubeshoot this issue please refer to the following resources.\\\n",
    "                     \\nhttps://docs.aws.amazon.com/IAM/latest/UserGuide/troubleshoot_access-denied.html\\\n",
    "                     \\nhttps://docs.aws.amazon.com/bedrock/latest/userguide/security-iam.html\\x1b[0m\\n\"\n",
    "            )\n",
    "\n",
    "        else:\n",
    "            raise error\n"
   ]
  },
  {
   "cell_type": "markdown",
   "metadata": {},
   "source": [
    "## Display the results from Elastic in a readable Tabular form\n",
    "\n",
    "The following utility will display the results from Elastic in a tabular format."
   ]
  },
  {
   "cell_type": "code",
   "execution_count": 115,
   "metadata": {
    "tags": []
   },
   "outputs": [],
   "source": [
    "from prettytable import PrettyTable\n",
    "\n",
    "def display_pretty_table(results) :\n",
    "    data = results\n",
    "    \n",
    "    # Create a PrettyTable object\n",
    "    table = PrettyTable()\n",
    "\n",
    "    # Define the columns\n",
    "    table.field_names = [\"Property ID\",\"Property Name\", \"Address\", \"Type\"]\n",
    "\n",
    "    # Add rows to the table\n",
    "    for hit in data['hits']['hits']:\n",
    "        source = hit['_source']\n",
    "        table.add_row([\n",
    "            source['propertyId'],\n",
    "            source['propertyName'],            \n",
    "            source['propertyAddress'],\n",
    "            source['propertyType'],\n",
    "        ])\n",
    "\n",
    "    # Set the alignment of the columns\n",
    "    table.align[\"Address\"] = \"l\"  # Left align the Address column\n",
    "    table.align[\"Type\"] = \"l\"     # Left align the Type column\n",
    "    \n",
    "    # Print the table\n",
    "    print(table)\n"
   ]
  },
  {
   "cell_type": "markdown",
   "metadata": {},
   "source": [
    "## Plotting Real Estate property details on a Map.\n",
    "\n",
    "In order to visually show the geographic locations of each property that is found by searching Elastic database, we need to plot these on a Map.  The following `display_map` utility does the same."
   ]
  },
  {
   "cell_type": "code",
   "execution_count": 84,
   "metadata": {
    "tags": []
   },
   "outputs": [],
   "source": [
    "import folium\n",
    "from IPython.display import IFrame, display, HTML\n",
    "\n",
    "def display_map(search_location, data):    \n",
    "    points = []\n",
    "    \n",
    "    for hit in data['hits']['hits']:\n",
    "        source = hit['_source']\n",
    "        coordinates = source['propertyCoordinates'].split(',')\n",
    "        latitude = float(coordinates[0])\n",
    "        longitude = float(coordinates[1])\n",
    "        new_point = {\n",
    "            \"name\": source['propertyId'],\n",
    "            \"tooltip\": source['propertyType'] + \" : \" + source['propertyName'] + \" : \" + source['propertyAddress'],\n",
    "            \"latitude\": latitude,\n",
    "            \"longitude\": longitude\n",
    "        }\n",
    "        points.append(new_point)\n",
    "    \n",
    "\n",
    "    # Calculate the center point\n",
    "    if points:\n",
    "        if debug:\n",
    "            print (\"Hurrayyyy , it has has some points added\")\n",
    "    else:\n",
    "        Title = \"<h2>Currently no properties found. Please check back with us. We are continuosly adding newer listings.</h2>\"\n",
    "        display(HTML(Title))\n",
    "        return\n",
    "        \n",
    "    center_lat = sum(point['latitude'] for point in points) / len(points)\n",
    "    center_lon = sum(point['longitude'] for point in points) / len(points)\n",
    "\n",
    "    # Create a map centered on the mean of all points\n",
    "    m = folium.Map(location=[center_lat, center_lon], zoom_start=13)\n",
    "\n",
    "    # Add markers for each point\n",
    "    for point in points:\n",
    "        folium.Marker(\n",
    "            location=[point['latitude'], point['longitude']],\n",
    "            popup=point['name'],\n",
    "            tooltip=point['tooltip']\n",
    "        ).add_to(m)\n",
    "\n",
    "    # Save the map\n",
    "    map_file = \"results_map.html\"\n",
    "    m.save(map_file)\n",
    "\n",
    "    # Display the map in the notebook\n",
    "    Title = \"<h2>Real Estate Properties near : \" + search_location + \"</h2>\"\n",
    "    display(HTML(Title))\n",
    "    display(IFrame(src=map_file, width=800, height=800))"
   ]
  },
  {
   "cell_type": "markdown",
   "metadata": {},
   "source": [
    "## Automated Email\n",
    "\n",
    "Automagically send an email to the end user, so that they have all the property listings and recommendations in an email."
   ]
  },
  {
   "cell_type": "code",
   "execution_count": 108,
   "metadata": {
    "tags": []
   },
   "outputs": [],
   "source": [
    "def send_email(sender, recipient, subject, body_html):\n",
    "    # Replace with your AWS region\n",
    "    AWS_REGION = \"us-east-1\"\n",
    "    \n",
    "    # Create a new SES resource and specify a region.\n",
    "    client = boto3.client('ses', region_name=AWS_REGION)\n",
    "    \n",
    "    # Try to send the email.\n",
    "    try:\n",
    "        response = client.send_email(\n",
    "            Destination={\n",
    "                'ToAddresses': [\n",
    "                    recipient,\n",
    "                ],\n",
    "            },\n",
    "            Message={\n",
    "                'Body': {\n",
    "                    'Html': {\n",
    "                        'Charset': 'UTF-8',\n",
    "                        'Data': body_html,\n",
    "                    },\n",
    "                },\n",
    "                'Subject': {\n",
    "                    'Charset': 'UTF-8',\n",
    "                    'Data': subject,\n",
    "                },\n",
    "            },\n",
    "            Source=sender,\n",
    "        )\n",
    "    except ClientError as e:\n",
    "        print(f\"An error occurred: {e.response['Error']['Message']}\")\n",
    "    else:\n",
    "        print(f\"Email sent! Message ID: {response['MessageId']}\")"
   ]
  },
  {
   "cell_type": "markdown",
   "metadata": {},
   "source": [
    "## Lets put everything to work now.. Interactive Chat AI in action"
   ]
  },
  {
   "cell_type": "code",
   "execution_count": null,
   "metadata": {
    "tags": []
   },
   "outputs": [
    {
     "name": "stdout",
     "output_type": "stream",
     "text": [
      "\n",
      "\n",
      "  __          __  _                                  _                               \n",
      " \\ \\        / / | |                                | |                              \n",
      "  \\ \\  /\\  / /__| | ___ ___  _ __ ___   ___        | |_ ___                         \n",
      "   \\ \\/  \\/ / _ \\ |/ __/ _ \\| '_ ` _ \\ / _ \\       | __/ _ \\                        \n",
      "    \\  /\\  /  __/ | (_| (_) | | | | | |  __/       | || (_) |                       \n",
      "  ___\\/  \\/ \\___|_|\\___\\___/|_| |_| |_|\\___|        \\__\\___/ _           _   _      \n",
      " |  _ \\         | |              | |                 |  ____| |         | | (_)     \n",
      " | |_) | ___  __| |_ __ ___   ___| | __    ______    | |__  | | __ _ ___| |_ _  ___ \n",
      " |  _ < / _ \\/ _` | '__/ _ \\ / __| |/ /   |______|   |  __| | |/ _` / __| __| |/ __|\n",
      " | |_) |  __/ (_| | | | (_) | (__|   <               | |____| | (_| \\__ \\ |_| | (__ \n",
      " |____/_\\___|\\__,_|_|__\\___/ \\___|_|\\_\\   _       _  |______|_|\\__,_|___/\\__|_|\\___|\n",
      "  / ____|          / ____|           | | (_)     | |    |  __ \\     /\\   / ____|    \n",
      " | |  __  ___  ___| (___  _ __   __ _| |_ _  __ _| |    | |__) |   /  \\ | |  __     \n",
      " | | |_ |/ _ \\/ _ \\___ \\| '_ \\ / _` | __| |/ _` | |    |  _  /   / /\\ \\| | |_ |    \n",
      " | |__| |  __/ (_) |___) | |_) | (_| | |_| | (_| | |    | | \\ \\  / ____ \\ |__| |    \n",
      "  \\_____|\\___|\\___/_____/| .__/ \\__,_|\\__|_|\\__,_|_|    |_|  \\_\\/_/    \\_\\_____|    \n",
      "                         | |                                                        \n",
      "                         |_|                                                                                                        \n",
      "\n",
      "\n",
      "I am a trivia chat bot, ask me any question about RealEstate\n"
     ]
    },
    {
     "name": "stdin",
     "output_type": "stream",
     "text": [
      "User Question >>  Find me townhomes near Frisco, TX within 5 miles that is under $400K and has a big kitchen\n"
     ]
    },
    {
     "name": "stdout",
     "output_type": "stream",
     "text": [
      "The most relevant question is : \n",
      "\tFind me townhomes near Frisco, TX within 5 miles that is under $400K and has a big kitchen\n",
      "*** Extracted Entities from the prompt are: ***\n",
      " {\n",
      "  \"search_property_type\": \"Townhouse\",\n",
      "  \"search_property_address\": \"Frisco, TX\",\n",
      "  \"search_property_radius\": \"5mi\", \n",
      "  \"search_property_features\": \"under $400K and has a big kitchen\"\n",
      "}\n",
      "****************** Response - START **********************\n",
      " Certainly, let me see what options we have that meet your criteria of a townhome near Frisco, TX within 5 miles, under $400K, and with a big kitchen:\n",
      "\n",
      "It looks like there are a couple great possibilities! The first is 8410 Hickory St Unit 2103 in Frisco. This townhome is only about 1 mile from the center of Frisco and is currently listed at $269K. It has a gorgeous upgraded kitchen with lots of cabinets and granite countertops. The kitchen is open to the living area as well. This home backs up to a community green space for nice views. \n",
      "\n",
      "Another option is 8209 Canal St in Frisco, listed at $339K. This townhome is located in the desirable Canals community, known for its charming atmosphere and walkability. The kitchen in this home would be perfect for entertaining - it has an island, stainless steel appliances, and striking granite counters. There is also a dedicated dining area just off the kitchen. \n",
      "\n",
      "Both of these options are well within your budget and give you that ideal townhome layout with a large, upgraded kitchen. Let me know if you'd like any additional information or would like to schedule a viewing of either property. I'm happy to provide more details to help you find your new home!\n",
      "+-------------+-----------------------------+-----------------------------------+-----------+\n",
      "| Property ID |        Property Name        | Address                           | Type      |\n",
      "+-------------+-----------------------------+-----------------------------------+-----------+\n",
      "|      1      |   The Chase At Stonebriar   | 5331 Balmoral Dr, Frisco,TX 75034 | Townhouse |\n",
      "|      2      |   The Canals At Grand Park  | 8209 Canal St, Frisco TX 75034    | Townhouse |\n",
      "|      3      | Hickory Street Village Ph I | 8400 Hickory St UNIT 2103, ,      | Townhouse |\n",
      "+-------------+-----------------------------+-----------------------------------+-----------+\n"
     ]
    },
    {
     "data": {
      "text/html": [
       "<h2>Real Estate Properties near : Frisco, TX</h2>"
      ],
      "text/plain": [
       "<IPython.core.display.HTML object>"
      ]
     },
     "metadata": {},
     "output_type": "display_data"
    },
    {
     "data": {
      "text/html": [
       "\n",
       "        <iframe\n",
       "            width=\"800\"\n",
       "            height=\"800\"\n",
       "            src=\"results_map.html\"\n",
       "            frameborder=\"0\"\n",
       "            allowfullscreen\n",
       "            \n",
       "        ></iframe>\n",
       "        "
      ],
      "text/plain": [
       "<IPython.lib.display.IFrame at 0x7fe5644fe650>"
      ]
     },
     "metadata": {},
     "output_type": "display_data"
    },
    {
     "name": "stdout",
     "output_type": "stream",
     "text": [
      "****************** Response - END   **********************\n",
      "\tAnswer  : None\n"
     ]
    }
   ],
   "source": [
    "## how to ask a question\n",
    "def ask_a_question(question):\n",
    "    print(f'The most relevant question is : \\n\\t{question}')\n",
    "    # Step 1 : Entitiy Extraction: Get the address, radius, property features from the search.\n",
    "    extracted_entities_JSON = json.loads(extract_entities(question))\n",
    "    search_property_type = extracted_entities_JSON[\"search_property_type\"]\n",
    "    search_property_address = extracted_entities_JSON[\"search_property_address\"]\n",
    "    search_property_radius = extracted_entities_JSON[\"search_property_radius\"]\n",
    "    search_property_features = extracted_entities_JSON[\"search_property_features\"]\n",
    "        \n",
    "    # Step 2 : Geocoding using AWS Location Services. Using the address information, geocode and get longitude and latitude.\n",
    "    aws_location_service_result = invoke_aws_loc_service(search_property_address)\n",
    "    if (debug):\n",
    "        print(aws_location_service_result)\n",
    "        print(type(aws_location_service_result))\n",
    "\n",
    "    geo_coded_long = aws_location_service_result[\"longitude\"]\n",
    "    geo_coded_lat = aws_location_service_result[\"latitude\"]\n",
    "    geo_coded_add = aws_location_service_result[\"address\"]\n",
    "    \n",
    "    if (debug):\n",
    "        print(f'And here is geocoded long for search address: {geo_coded_long}')\n",
    "        print(f'And here is geocoded lat for search address: {geo_coded_lat}')\n",
    "        print(f'And here is geocoded address for search address: {geo_coded_add}')\n",
    "    \n",
    "    # Step 3: Using the address coordinates and the radius, perform an Elastic search operation to find the nearest points of interest\n",
    "    results = run_elastic_geospatial_query (geo_coded_lat, geo_coded_long, search_property_radius, search_property_type, index_name)\n",
    "    data = results.body\n",
    "    if debug:\n",
    "        print(results.body)\n",
    "    \n",
    "    results_found = False\n",
    "    \n",
    "    for hit in data['hits']['hits']:\n",
    "        source = hit['_source']\n",
    "        results_found = True\n",
    "    \n",
    "    if results_found is False:\n",
    "        Title = \"<h2>Currently no properties found. Please check back with us. We are continuosly adding newer listings.</h2>\"\n",
    "        display(HTML(Title))\n",
    "        return\n",
    "\n",
    "    # Step 4: Run Geo Spatial RAG\n",
    "    \n",
    "    print(\"****************** Response - START **********************\")\n",
    "    rag_summary = run_geospatial_rag(question, results.body)\n",
    "    print(rag_summary)\n",
    "    \n",
    "    # Step 5: Display results in a Tabular form\n",
    "    display_pretty_table(results.body)\n",
    "    \n",
    "    # Step 6: Now plot the top 3 relevant search results on a Map.\n",
    "    display_map(search_property_address, results.body)\n",
    "    \n",
    "    #Step 7: Send a personalized email to the Customer\n",
    "    sender = \"sripendi@amazon.com\"\n",
    "    recipient = \"sripendi@amazon.com\"\n",
    "    subject = \"Hello from AnyCompany Real Estate Management\"\n",
    "    body_html = \"\"\"\n",
    "    <html>\n",
    "    <head></head>\n",
    "    <body>\n",
    "      <h1>Your interest in buying properties in {location} </h1>\n",
    "      <p>Hello Customer,</p>\n",
    "      <p>We are delighted to serve you.</p>\n",
    "      <p>{rag_summary}</p>\n",
    "      <p> Thankyou </p>\n",
    "      <h3>AnyCompany Real Estate Management LLC Team </h3>\n",
    "      <h4>Call us : 1.800.AAA.BBBB </h4>\n",
    "    </body>\n",
    "    </html>\n",
    "    \"\"\".format(location=search_property_address, rag_summary=rag_summary)\n",
    "\n",
    "    body_html = body_html\n",
    "\n",
    "    if debug: \n",
    "        print(body_html)\n",
    "    #send_email(sender, recipient, subject, body_html)\n",
    "    \n",
    "    print(\"****************** Response - END   **********************\")\n",
    "# The conversational loop\n",
    "\n",
    "print(\"\"\"\n",
    "\n",
    "  __          __  _                                  _                               \n",
    " \\ \\        / / | |                                | |                              \n",
    "  \\ \\  /\\  / /__| | ___ ___  _ __ ___   ___        | |_ ___                         \n",
    "   \\ \\/  \\/ / _ \\ |/ __/ _ \\| '_ ` _ \\ / _ \\       | __/ _ \\                        \n",
    "    \\  /\\  /  __/ | (_| (_) | | | | | |  __/       | || (_) |                       \n",
    "  ___\\/  \\/ \\___|_|\\___\\___/|_| |_| |_|\\___|        \\__\\___/ _           _   _      \n",
    " |  _ \\         | |              | |                 |  ____| |         | | (_)     \n",
    " | |_) | ___  __| |_ __ ___   ___| | __    ______    | |__  | | __ _ ___| |_ _  ___ \n",
    " |  _ < / _ \\/ _` | '__/ _ \\ / __| |/ /   |______|   |  __| | |/ _` / __| __| |/ __|\n",
    " | |_) |  __/ (_| | | | (_) | (__|   <               | |____| | (_| \\__ \\ |_| | (__ \n",
    " |____/_\\___|\\__,_|_|__\\___/ \\___|_|\\_\\   _       _  |______|_|\\__,_|___/\\__|_|\\___|\n",
    "  / ____|          / ____|           | | (_)     | |    |  __ \\     /\\   / ____|    \n",
    " | |  __  ___  ___| (___  _ __   __ _| |_ _  __ _| |    | |__) |   /  \\ | |  __     \n",
    " | | |_ |/ _ \\/ _ \\\\___ \\| '_ \\ / _` | __| |/ _` | |    |  _  /   / /\\ \\| | |_ |    \n",
    " | |__| |  __/ (_) |___) | |_) | (_| | |_| | (_| | |    | | \\ \\  / ____ \\ |__| |    \n",
    "  \\_____|\\___|\\___/_____/| .__/ \\__,_|\\__|_|\\__,_|_|    |_|  \\_\\/_/    \\_\\_____|    \n",
    "                         | |                                                        \n",
    "                         |_|                                                                                                        \n",
    "\n",
    "\"\"\")\n",
    "\n",
    "print(f'I am a trivia chat bot, ask me any question about RealEstate')\n",
    "\n",
    "while True:\n",
    "    question = input(\"User Question >> \")\n",
    "    response= ask_a_question(question)\n",
    "    print(f\"\\tAnswer  : {response}\")"
   ]
  }
 ],
 "metadata": {
  "availableInstances": [
   {
    "_defaultOrder": 0,
    "_isFastLaunch": true,
    "category": "General purpose",
    "gpuNum": 0,
    "hideHardwareSpecs": false,
    "memoryGiB": 4,
    "name": "ml.t3.medium",
    "vcpuNum": 2
   },
   {
    "_defaultOrder": 1,
    "_isFastLaunch": false,
    "category": "General purpose",
    "gpuNum": 0,
    "hideHardwareSpecs": false,
    "memoryGiB": 8,
    "name": "ml.t3.large",
    "vcpuNum": 2
   },
   {
    "_defaultOrder": 2,
    "_isFastLaunch": false,
    "category": "General purpose",
    "gpuNum": 0,
    "hideHardwareSpecs": false,
    "memoryGiB": 16,
    "name": "ml.t3.xlarge",
    "vcpuNum": 4
   },
   {
    "_defaultOrder": 3,
    "_isFastLaunch": false,
    "category": "General purpose",
    "gpuNum": 0,
    "hideHardwareSpecs": false,
    "memoryGiB": 32,
    "name": "ml.t3.2xlarge",
    "vcpuNum": 8
   },
   {
    "_defaultOrder": 4,
    "_isFastLaunch": true,
    "category": "General purpose",
    "gpuNum": 0,
    "hideHardwareSpecs": false,
    "memoryGiB": 8,
    "name": "ml.m5.large",
    "vcpuNum": 2
   },
   {
    "_defaultOrder": 5,
    "_isFastLaunch": false,
    "category": "General purpose",
    "gpuNum": 0,
    "hideHardwareSpecs": false,
    "memoryGiB": 16,
    "name": "ml.m5.xlarge",
    "vcpuNum": 4
   },
   {
    "_defaultOrder": 6,
    "_isFastLaunch": false,
    "category": "General purpose",
    "gpuNum": 0,
    "hideHardwareSpecs": false,
    "memoryGiB": 32,
    "name": "ml.m5.2xlarge",
    "vcpuNum": 8
   },
   {
    "_defaultOrder": 7,
    "_isFastLaunch": false,
    "category": "General purpose",
    "gpuNum": 0,
    "hideHardwareSpecs": false,
    "memoryGiB": 64,
    "name": "ml.m5.4xlarge",
    "vcpuNum": 16
   },
   {
    "_defaultOrder": 8,
    "_isFastLaunch": false,
    "category": "General purpose",
    "gpuNum": 0,
    "hideHardwareSpecs": false,
    "memoryGiB": 128,
    "name": "ml.m5.8xlarge",
    "vcpuNum": 32
   },
   {
    "_defaultOrder": 9,
    "_isFastLaunch": false,
    "category": "General purpose",
    "gpuNum": 0,
    "hideHardwareSpecs": false,
    "memoryGiB": 192,
    "name": "ml.m5.12xlarge",
    "vcpuNum": 48
   },
   {
    "_defaultOrder": 10,
    "_isFastLaunch": false,
    "category": "General purpose",
    "gpuNum": 0,
    "hideHardwareSpecs": false,
    "memoryGiB": 256,
    "name": "ml.m5.16xlarge",
    "vcpuNum": 64
   },
   {
    "_defaultOrder": 11,
    "_isFastLaunch": false,
    "category": "General purpose",
    "gpuNum": 0,
    "hideHardwareSpecs": false,
    "memoryGiB": 384,
    "name": "ml.m5.24xlarge",
    "vcpuNum": 96
   },
   {
    "_defaultOrder": 12,
    "_isFastLaunch": false,
    "category": "General purpose",
    "gpuNum": 0,
    "hideHardwareSpecs": false,
    "memoryGiB": 8,
    "name": "ml.m5d.large",
    "vcpuNum": 2
   },
   {
    "_defaultOrder": 13,
    "_isFastLaunch": false,
    "category": "General purpose",
    "gpuNum": 0,
    "hideHardwareSpecs": false,
    "memoryGiB": 16,
    "name": "ml.m5d.xlarge",
    "vcpuNum": 4
   },
   {
    "_defaultOrder": 14,
    "_isFastLaunch": false,
    "category": "General purpose",
    "gpuNum": 0,
    "hideHardwareSpecs": false,
    "memoryGiB": 32,
    "name": "ml.m5d.2xlarge",
    "vcpuNum": 8
   },
   {
    "_defaultOrder": 15,
    "_isFastLaunch": false,
    "category": "General purpose",
    "gpuNum": 0,
    "hideHardwareSpecs": false,
    "memoryGiB": 64,
    "name": "ml.m5d.4xlarge",
    "vcpuNum": 16
   },
   {
    "_defaultOrder": 16,
    "_isFastLaunch": false,
    "category": "General purpose",
    "gpuNum": 0,
    "hideHardwareSpecs": false,
    "memoryGiB": 128,
    "name": "ml.m5d.8xlarge",
    "vcpuNum": 32
   },
   {
    "_defaultOrder": 17,
    "_isFastLaunch": false,
    "category": "General purpose",
    "gpuNum": 0,
    "hideHardwareSpecs": false,
    "memoryGiB": 192,
    "name": "ml.m5d.12xlarge",
    "vcpuNum": 48
   },
   {
    "_defaultOrder": 18,
    "_isFastLaunch": false,
    "category": "General purpose",
    "gpuNum": 0,
    "hideHardwareSpecs": false,
    "memoryGiB": 256,
    "name": "ml.m5d.16xlarge",
    "vcpuNum": 64
   },
   {
    "_defaultOrder": 19,
    "_isFastLaunch": false,
    "category": "General purpose",
    "gpuNum": 0,
    "hideHardwareSpecs": false,
    "memoryGiB": 384,
    "name": "ml.m5d.24xlarge",
    "vcpuNum": 96
   },
   {
    "_defaultOrder": 20,
    "_isFastLaunch": false,
    "category": "General purpose",
    "gpuNum": 0,
    "hideHardwareSpecs": true,
    "memoryGiB": 0,
    "name": "ml.geospatial.interactive",
    "supportedImageNames": [
     "sagemaker-geospatial-v1-0"
    ],
    "vcpuNum": 0
   },
   {
    "_defaultOrder": 21,
    "_isFastLaunch": true,
    "category": "Compute optimized",
    "gpuNum": 0,
    "hideHardwareSpecs": false,
    "memoryGiB": 4,
    "name": "ml.c5.large",
    "vcpuNum": 2
   },
   {
    "_defaultOrder": 22,
    "_isFastLaunch": false,
    "category": "Compute optimized",
    "gpuNum": 0,
    "hideHardwareSpecs": false,
    "memoryGiB": 8,
    "name": "ml.c5.xlarge",
    "vcpuNum": 4
   },
   {
    "_defaultOrder": 23,
    "_isFastLaunch": false,
    "category": "Compute optimized",
    "gpuNum": 0,
    "hideHardwareSpecs": false,
    "memoryGiB": 16,
    "name": "ml.c5.2xlarge",
    "vcpuNum": 8
   },
   {
    "_defaultOrder": 24,
    "_isFastLaunch": false,
    "category": "Compute optimized",
    "gpuNum": 0,
    "hideHardwareSpecs": false,
    "memoryGiB": 32,
    "name": "ml.c5.4xlarge",
    "vcpuNum": 16
   },
   {
    "_defaultOrder": 25,
    "_isFastLaunch": false,
    "category": "Compute optimized",
    "gpuNum": 0,
    "hideHardwareSpecs": false,
    "memoryGiB": 72,
    "name": "ml.c5.9xlarge",
    "vcpuNum": 36
   },
   {
    "_defaultOrder": 26,
    "_isFastLaunch": false,
    "category": "Compute optimized",
    "gpuNum": 0,
    "hideHardwareSpecs": false,
    "memoryGiB": 96,
    "name": "ml.c5.12xlarge",
    "vcpuNum": 48
   },
   {
    "_defaultOrder": 27,
    "_isFastLaunch": false,
    "category": "Compute optimized",
    "gpuNum": 0,
    "hideHardwareSpecs": false,
    "memoryGiB": 144,
    "name": "ml.c5.18xlarge",
    "vcpuNum": 72
   },
   {
    "_defaultOrder": 28,
    "_isFastLaunch": false,
    "category": "Compute optimized",
    "gpuNum": 0,
    "hideHardwareSpecs": false,
    "memoryGiB": 192,
    "name": "ml.c5.24xlarge",
    "vcpuNum": 96
   },
   {
    "_defaultOrder": 29,
    "_isFastLaunch": true,
    "category": "Accelerated computing",
    "gpuNum": 1,
    "hideHardwareSpecs": false,
    "memoryGiB": 16,
    "name": "ml.g4dn.xlarge",
    "vcpuNum": 4
   },
   {
    "_defaultOrder": 30,
    "_isFastLaunch": false,
    "category": "Accelerated computing",
    "gpuNum": 1,
    "hideHardwareSpecs": false,
    "memoryGiB": 32,
    "name": "ml.g4dn.2xlarge",
    "vcpuNum": 8
   },
   {
    "_defaultOrder": 31,
    "_isFastLaunch": false,
    "category": "Accelerated computing",
    "gpuNum": 1,
    "hideHardwareSpecs": false,
    "memoryGiB": 64,
    "name": "ml.g4dn.4xlarge",
    "vcpuNum": 16
   },
   {
    "_defaultOrder": 32,
    "_isFastLaunch": false,
    "category": "Accelerated computing",
    "gpuNum": 1,
    "hideHardwareSpecs": false,
    "memoryGiB": 128,
    "name": "ml.g4dn.8xlarge",
    "vcpuNum": 32
   },
   {
    "_defaultOrder": 33,
    "_isFastLaunch": false,
    "category": "Accelerated computing",
    "gpuNum": 4,
    "hideHardwareSpecs": false,
    "memoryGiB": 192,
    "name": "ml.g4dn.12xlarge",
    "vcpuNum": 48
   },
   {
    "_defaultOrder": 34,
    "_isFastLaunch": false,
    "category": "Accelerated computing",
    "gpuNum": 1,
    "hideHardwareSpecs": false,
    "memoryGiB": 256,
    "name": "ml.g4dn.16xlarge",
    "vcpuNum": 64
   },
   {
    "_defaultOrder": 35,
    "_isFastLaunch": false,
    "category": "Accelerated computing",
    "gpuNum": 1,
    "hideHardwareSpecs": false,
    "memoryGiB": 61,
    "name": "ml.p3.2xlarge",
    "vcpuNum": 8
   },
   {
    "_defaultOrder": 36,
    "_isFastLaunch": false,
    "category": "Accelerated computing",
    "gpuNum": 4,
    "hideHardwareSpecs": false,
    "memoryGiB": 244,
    "name": "ml.p3.8xlarge",
    "vcpuNum": 32
   },
   {
    "_defaultOrder": 37,
    "_isFastLaunch": false,
    "category": "Accelerated computing",
    "gpuNum": 8,
    "hideHardwareSpecs": false,
    "memoryGiB": 488,
    "name": "ml.p3.16xlarge",
    "vcpuNum": 64
   },
   {
    "_defaultOrder": 38,
    "_isFastLaunch": false,
    "category": "Accelerated computing",
    "gpuNum": 8,
    "hideHardwareSpecs": false,
    "memoryGiB": 768,
    "name": "ml.p3dn.24xlarge",
    "vcpuNum": 96
   },
   {
    "_defaultOrder": 39,
    "_isFastLaunch": false,
    "category": "Memory Optimized",
    "gpuNum": 0,
    "hideHardwareSpecs": false,
    "memoryGiB": 16,
    "name": "ml.r5.large",
    "vcpuNum": 2
   },
   {
    "_defaultOrder": 40,
    "_isFastLaunch": false,
    "category": "Memory Optimized",
    "gpuNum": 0,
    "hideHardwareSpecs": false,
    "memoryGiB": 32,
    "name": "ml.r5.xlarge",
    "vcpuNum": 4
   },
   {
    "_defaultOrder": 41,
    "_isFastLaunch": false,
    "category": "Memory Optimized",
    "gpuNum": 0,
    "hideHardwareSpecs": false,
    "memoryGiB": 64,
    "name": "ml.r5.2xlarge",
    "vcpuNum": 8
   },
   {
    "_defaultOrder": 42,
    "_isFastLaunch": false,
    "category": "Memory Optimized",
    "gpuNum": 0,
    "hideHardwareSpecs": false,
    "memoryGiB": 128,
    "name": "ml.r5.4xlarge",
    "vcpuNum": 16
   },
   {
    "_defaultOrder": 43,
    "_isFastLaunch": false,
    "category": "Memory Optimized",
    "gpuNum": 0,
    "hideHardwareSpecs": false,
    "memoryGiB": 256,
    "name": "ml.r5.8xlarge",
    "vcpuNum": 32
   },
   {
    "_defaultOrder": 44,
    "_isFastLaunch": false,
    "category": "Memory Optimized",
    "gpuNum": 0,
    "hideHardwareSpecs": false,
    "memoryGiB": 384,
    "name": "ml.r5.12xlarge",
    "vcpuNum": 48
   },
   {
    "_defaultOrder": 45,
    "_isFastLaunch": false,
    "category": "Memory Optimized",
    "gpuNum": 0,
    "hideHardwareSpecs": false,
    "memoryGiB": 512,
    "name": "ml.r5.16xlarge",
    "vcpuNum": 64
   },
   {
    "_defaultOrder": 46,
    "_isFastLaunch": false,
    "category": "Memory Optimized",
    "gpuNum": 0,
    "hideHardwareSpecs": false,
    "memoryGiB": 768,
    "name": "ml.r5.24xlarge",
    "vcpuNum": 96
   },
   {
    "_defaultOrder": 47,
    "_isFastLaunch": false,
    "category": "Accelerated computing",
    "gpuNum": 1,
    "hideHardwareSpecs": false,
    "memoryGiB": 16,
    "name": "ml.g5.xlarge",
    "vcpuNum": 4
   },
   {
    "_defaultOrder": 48,
    "_isFastLaunch": false,
    "category": "Accelerated computing",
    "gpuNum": 1,
    "hideHardwareSpecs": false,
    "memoryGiB": 32,
    "name": "ml.g5.2xlarge",
    "vcpuNum": 8
   },
   {
    "_defaultOrder": 49,
    "_isFastLaunch": false,
    "category": "Accelerated computing",
    "gpuNum": 1,
    "hideHardwareSpecs": false,
    "memoryGiB": 64,
    "name": "ml.g5.4xlarge",
    "vcpuNum": 16
   },
   {
    "_defaultOrder": 50,
    "_isFastLaunch": false,
    "category": "Accelerated computing",
    "gpuNum": 1,
    "hideHardwareSpecs": false,
    "memoryGiB": 128,
    "name": "ml.g5.8xlarge",
    "vcpuNum": 32
   },
   {
    "_defaultOrder": 51,
    "_isFastLaunch": false,
    "category": "Accelerated computing",
    "gpuNum": 1,
    "hideHardwareSpecs": false,
    "memoryGiB": 256,
    "name": "ml.g5.16xlarge",
    "vcpuNum": 64
   },
   {
    "_defaultOrder": 52,
    "_isFastLaunch": false,
    "category": "Accelerated computing",
    "gpuNum": 4,
    "hideHardwareSpecs": false,
    "memoryGiB": 192,
    "name": "ml.g5.12xlarge",
    "vcpuNum": 48
   },
   {
    "_defaultOrder": 53,
    "_isFastLaunch": false,
    "category": "Accelerated computing",
    "gpuNum": 4,
    "hideHardwareSpecs": false,
    "memoryGiB": 384,
    "name": "ml.g5.24xlarge",
    "vcpuNum": 96
   },
   {
    "_defaultOrder": 54,
    "_isFastLaunch": false,
    "category": "Accelerated computing",
    "gpuNum": 8,
    "hideHardwareSpecs": false,
    "memoryGiB": 768,
    "name": "ml.g5.48xlarge",
    "vcpuNum": 192
   },
   {
    "_defaultOrder": 55,
    "_isFastLaunch": false,
    "category": "Accelerated computing",
    "gpuNum": 8,
    "hideHardwareSpecs": false,
    "memoryGiB": 1152,
    "name": "ml.p4d.24xlarge",
    "vcpuNum": 96
   },
   {
    "_defaultOrder": 56,
    "_isFastLaunch": false,
    "category": "Accelerated computing",
    "gpuNum": 8,
    "hideHardwareSpecs": false,
    "memoryGiB": 1152,
    "name": "ml.p4de.24xlarge",
    "vcpuNum": 96
   },
   {
    "_defaultOrder": 57,
    "_isFastLaunch": false,
    "category": "Accelerated computing",
    "gpuNum": 0,
    "hideHardwareSpecs": false,
    "memoryGiB": 32,
    "name": "ml.trn1.2xlarge",
    "vcpuNum": 8
   },
   {
    "_defaultOrder": 58,
    "_isFastLaunch": false,
    "category": "Accelerated computing",
    "gpuNum": 0,
    "hideHardwareSpecs": false,
    "memoryGiB": 512,
    "name": "ml.trn1.32xlarge",
    "vcpuNum": 128
   },
   {
    "_defaultOrder": 59,
    "_isFastLaunch": false,
    "category": "Accelerated computing",
    "gpuNum": 0,
    "hideHardwareSpecs": false,
    "memoryGiB": 512,
    "name": "ml.trn1n.32xlarge",
    "vcpuNum": 128
   }
  ],
  "instance_type": "ml.t3.medium",
  "kernelspec": {
   "display_name": "Python 3 (Data Science 3.0)",
   "language": "python",
   "name": "python3__SAGEMAKER_INTERNAL__arn:aws:sagemaker:us-east-1:081325390199:image/sagemaker-data-science-310-v1"
  },
  "language_info": {
   "codemirror_mode": {
    "name": "ipython",
    "version": 3
   },
   "file_extension": ".py",
   "mimetype": "text/x-python",
   "name": "python",
   "nbconvert_exporter": "python",
   "pygments_lexer": "ipython3",
   "version": "3.10.6"
  }
 },
 "nbformat": 4,
 "nbformat_minor": 4
}
