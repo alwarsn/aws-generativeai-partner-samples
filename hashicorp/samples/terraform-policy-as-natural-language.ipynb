{
 "cells": [
  {
   "cell_type": "markdown",
   "metadata": {},
   "source": [
    "# Define Infrastructure Policy as a Constitution in Natural Language"
   ]
  },
  {
   "cell_type": "markdown",
   "metadata": {},
   "source": [
    "## Introduction\n",
    "\n",
    "In this notebook we will show you how to use Amazon Bedrock and Anthropic Claude for policy management and governance that helps organizations maintain control and compliance across their infrastructure and operations.\n",
    "\n",
    "\n",
    "It will allow users to define policies in natural language without dependency on any domain-specific language (DSL). It integrates with terraform allowing organizations to define, implement, and enforce policies for infrastructure of their cloud and on-premises environments.\n",
    "\n",
    "\n",
    "#### Use case\n",
    "\n",
    "To demonstrate the natural language policy definition capabilities of Anthropic Claude via Amazon Bedrock, let's take the use case of creating IT security policies for a growing tech company.\n",
    "\n",
    "\n",
    "#### Persona\n",
    "You are Sarah, the newly appointed Chief Information Security Officer (CISO) at TechGrowth Inc., a rapidly expanding software company. As the company scales, you need to establish comprehensive IT security policies that align with industry standards and regulations. However, you're facing challenges:\n",
    "\n",
    "1. Your team lacks expertise in policy writing.\n",
    "2. You need policies that are clear and understandable to all employees, not just IT specialists.\n",
    "3. The policies must be adaptable as the company grows and technology evolves.\n",
    "4. You're under time pressure to implement these policies before the next board meeting.\n",
    "\n",
    "#### Implementation\n",
    "To fulfill this use case, in this notebook we will show how to define policies in plain natural language and using Foundation Model (FM) to validate if the terraform plan complies with the defined security guidelines.We will use the Anthropic Claude 3 Sonnet Foundation model using the Amazon Bedrock API and Langchain. "
   ]
  },
  {
   "cell_type": "markdown",
   "metadata": {},
   "source": [
    "#### Python 3.10\n",
    "\n",
    "⚠  For this lab we need to run the notebook based on a Python 3.10 runtime. ⚠\n",
    "\n",
    "\n",
    "## Installation\n",
    "\n",
    "To run this notebook you would need to install dependencies - boto3, botocore and langchain.\n",
    "\n",
    "Notice `capture` command below, this will suppress the output of pip installation commands. This will take approx about 3 - 5 mins to complete. You will not see any output as we are suppressing the output using `capture` command. If you would like to see the ouput, please comment out the `capture` command and run the cell. In this case, ignore `Warnings` and `Errors` you may see."
   ]
  },
  {
   "cell_type": "code",
   "execution_count": 36,
   "metadata": {
    "vscode": {
     "languageId": "plaintext"
    }
   },
   "outputs": [],
   "source": [
    "%%capture\n",
    "%pip install --upgrade pip\n",
    "%pip install boto3 --force-reinstall --quiet\n",
    "%pip install botocore --force-reinstall --quiet\n",
    "%pip install langchain --force-reinstall --quiet\n",
    "%pip install langchain_aws --force-reinstall --quiet"
   ]
  },
  {
   "cell_type": "markdown",
   "metadata": {},
   "source": [
    "## Kernel Restart\n",
    "\n",
    "Restart the kernel with the updated packages that are installed through the dependencies above"
   ]
  },
  {
   "cell_type": "code",
   "execution_count": 37,
   "metadata": {
    "vscode": {
     "languageId": "plaintext"
    }
   },
   "outputs": [
    {
     "data": {
      "text/html": [
       "<script>Jupyter.notebook.kernel.restart()</script>"
      ],
      "text/plain": [
       "<IPython.core.display.HTML object>"
      ]
     },
     "execution_count": 37,
     "metadata": {},
     "output_type": "execute_result"
    }
   ],
   "source": [
    "# restart kernel\n",
    "from IPython.core.display import HTML\n",
    "HTML(\"<script>Jupyter.notebook.kernel.restart()</script>\")"
   ]
  },
  {
   "cell_type": "markdown",
   "metadata": {},
   "source": [
    "## Setup \n",
    "\n",
    "Import the necessary libraries"
   ]
  },
  {
   "cell_type": "code",
   "execution_count": 1,
   "metadata": {
    "vscode": {
     "languageId": "plaintext"
    }
   },
   "outputs": [],
   "source": [
    "import json\n",
    "import os\n",
    "import sys\n",
    "import boto3\n",
    "import botocore\n",
    "from langchain_core.output_parsers import StrOutputParser\n",
    "from langchain_core.prompts import ChatPromptTemplate\n",
    "#from langchain_community.chat_models.bedrock import BedrockChat\n",
    "from langchain_aws import ChatBedrock\n",
    "from botocore.client import Config"
   ]
  },
  {
   "cell_type": "code",
   "execution_count": 2,
   "metadata": {
    "vscode": {
     "languageId": "plaintext"
    }
   },
   "outputs": [],
   "source": [
    "from langchain.prompts import PromptTemplate\n",
    "\n",
    "prompt = PromptTemplate(\n",
    "    input_variables=[\"policy\", \"terraform_code\"],\n",
    "    template=\"\"\"/\n",
    "    <policy>{policy}<policy>/\n",
    "    <terraform>{terraform_code}</terraform>/\n",
    "    You are a terraform code and plan analyzer Please verify the if the policies mentioned within <policy></policy> tags are satisfied in the the terraform script provided within <terraform></terraform> tags. /\n",
    "    Please convey your decision as a yes or no and provide this response within <decision></decision> tags.\n",
    "    Please add your analysis and explanation with <explanation></explanation> tags.\n",
    "    Think step by step and provide a detailed explanation for your answer./\n",
    "    \"\"\"\n",
    "    )"
   ]
  },
  {
   "cell_type": "markdown",
   "metadata": {},
   "source": [
    "## Define Policies as a Constitution in Natural Language\n",
    "Here, we define all our policies as a constitution. Each policy is equivalent of a directive principle in this constitution."
   ]
  },
  {
   "cell_type": "code",
   "execution_count": 3,
   "metadata": {
    "vscode": {
     "languageId": "plaintext"
    }
   },
   "outputs": [],
   "source": [
    "policy = \"\"\"\n",
    "1. all EC2 instances should have tags/\n",
    "\"\"\""
   ]
  },
  {
   "cell_type": "markdown",
   "metadata": {},
   "source": [
    "## Terraform code\n",
    "\n",
    "Below is the terraform code which will be evaluated to verify if it meets all the policy requirements"
   ]
  },
  {
   "cell_type": "code",
   "execution_count": 4,
   "metadata": {
    "vscode": {
     "languageId": "plaintext"
    }
   },
   "outputs": [],
   "source": [
    "terraform_code = \"\"\"terraform {/\n",
    "  required_providers {/\n",
    "    aws = {/\n",
    "      source  = \"hashicorp/aws\"/\n",
    "      version = \"~> 4.16\"/\n",
    "    }/\n",
    "  }/\n",
    "  required_version = \">= 1.2.0\"/\n",
    "}/\n",
    "provider \"aws\" {/\n",
    "  region  = \"us-west-2\"/\n",
    "  profile = \"jack.roper\"/\n",
    "}/\n",
    "resource \"aws_instance\" \"example_server\" {/\n",
    "  ami           = \"ami-04e914639d0cca79a\"/\n",
    "  instance_type = \"t2.micro\"/\n",
    "  tags = {/\n",
    "    Name = \"JacksBlogExample\"/\n",
    "  }/\n",
    "}\"\"\""
   ]
  },
  {
   "cell_type": "markdown",
   "metadata": {},
   "source": [
    "## Prompt template with policy and Terraform code as input"
   ]
  },
  {
   "cell_type": "code",
   "execution_count": 5,
   "metadata": {
    "vscode": {
     "languageId": "plaintext"
    }
   },
   "outputs": [],
   "source": [
    "# format the prompt to add variable values\n",
    "prompt_formatted_str: str = prompt.format(\n",
    "    policy=policy,\n",
    "    terraform_code=terraform_code)"
   ]
  },
  {
   "cell_type": "markdown",
   "metadata": {},
   "source": [
    "## Initialization\n",
    "\n",
    "Initiate Bedrock Runtime and BedrockChat"
   ]
  },
  {
   "cell_type": "code",
   "execution_count": 6,
   "metadata": {
    "vscode": {
     "languageId": "plaintext"
    }
   },
   "outputs": [],
   "source": [
    "bedrock_config = Config(connect_timeout=120, read_timeout=120, retries={'max_attempts': 0})\n",
    "bedrock_client = boto3.client('bedrock-runtime')\n",
    "\n",
    "#modelId = 'anthropic.claude-3-sonnet-20240229-v1:0' # change this to use a different version from the model provider\n",
    "modelId = 'anthropic.claude-3-5-sonnet-20240620-v1:0' # change this to use a different version from the model provider\n",
    "\n",
    "\n",
    "#llm = BedrockChat(model_id=modelId, client=bedrock_client)\n",
    "llm = ChatBedrock(model_id=modelId)"
   ]
  },
  {
   "cell_type": "markdown",
   "metadata": {},
   "source": [
    "## Model Invocation and Response Generation\n",
    "\n",
    "Invoke the model and visualize the response"
   ]
  },
  {
   "cell_type": "code",
   "execution_count": 7,
   "metadata": {
    "vscode": {
     "languageId": "plaintext"
    }
   },
   "outputs": [
    {
     "name": "stdout",
     "output_type": "stream",
     "text": [
      "<decision>Yes</decision>\n",
      "\n",
      "<explanation>\n",
      "Let's analyze the policy and the Terraform script step by step:\n",
      "\n",
      "1. Policy requirement:\n",
      "   The policy states that \"all EC2 instances should have tags\"\n",
      "\n",
      "2. Terraform script analysis:\n",
      "   a. The script defines an AWS provider and an EC2 instance resource.\n",
      "   b. The EC2 instance is created using the resource \"aws_instance\" named \"example_server\".\n",
      "   c. In the resource block, we can see a \"tags\" section:\n",
      "      ```\n",
      "      tags = {\n",
      "        Name = \"JacksBlogExample\"\n",
      "      }\n",
      "      ```\n",
      "\n",
      "3. Policy compliance:\n",
      "   a. The EC2 instance defined in the Terraform script does have a tag.\n",
      "   b. The tag is a key-value pair with the key \"Name\" and the value \"JacksBlogExample\".\n",
      "\n",
      "4. Detailed explanation:\n",
      "   - The policy requires that all EC2 instances should have tags.\n",
      "   - In Terraform, tags are typically added to resources using the \"tags\" argument, which is exactly what we see in this script.\n",
      "   - The script defines one EC2 instance, and this instance has a tag applied to it.\n",
      "   - The tag may be used for various purposes such as resource organization, cost allocation, or automation.\n",
      "   - While the policy doesn't specify what tags are required or how many, the presence of at least one tag satisfies the policy requirement.\n",
      "\n",
      "5. Additional considerations:\n",
      "   - If there were multiple EC2 instances defined in this Terraform script, we would need to check that each of them had tags to fully comply with the policy.\n",
      "   - The policy as stated is quite broad. In a real-world scenario, there might be more specific requirements about which tags should be present or what values they should have.\n",
      "\n",
      "In conclusion, the Terraform script satisfies the policy requirement by including a tag for the EC2 instance it defines.\n",
      "</explanation>\n"
     ]
    }
   ],
   "source": [
    "response =llm.invoke(prompt_formatted_str)\n",
    "print(response.content)"
   ]
  },
  {
   "cell_type": "markdown",
   "metadata": {},
   "source": [
    "## Conclusion\n",
    "You have now experimented with how to analyze a terraform code to verify if it meets the policies defined in natural language\n",
    "\n",
    "### Take aways\n",
    "- Adapt this notebook to experiment with different Claude 3 models available through Amazon Bedrock. \n",
    "- Change the prompts to your specific usecase and evaluate the output of different models.\n",
    "- Play with the token length to understand the latency and responsiveness of the service.\n",
    "- Apply different prompt engineering principles to get better outputs.\n",
    "\n",
    "## Thank You"
   ]
  }
 ],
 "metadata": {
  "kernelspec": {
   "display_name": "Python 3 (ipykernel)",
   "language": "python",
   "name": "python3"
  },
  "language_info": {
   "codemirror_mode": {
    "name": "ipython",
    "version": 3
   },
   "file_extension": ".py",
   "mimetype": "text/x-python",
   "name": "python",
   "nbconvert_exporter": "python",
   "pygments_lexer": "ipython3",
   "version": "3.12.2"
  }
 },
 "nbformat": 4,
 "nbformat_minor": 4
}
