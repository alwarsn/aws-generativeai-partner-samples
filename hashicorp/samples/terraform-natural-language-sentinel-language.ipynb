{
 "cells": [
  {
   "cell_type": "markdown",
   "metadata": {},
   "source": [
    "# Convert policies defined in Natural Language to Hashicorp Sentinel Language"
   ]
  },
  {
   "cell_type": "markdown",
   "metadata": {},
   "source": [
    "## Introduction\n",
    "\n",
    "In this notebook we will show you how to use Amazon Bedrock and Anthropic Claude for transforming policies defined in natural language to `Sentinel` language .\n",
    "\n",
    "\n",
    "It will allow users to define policies in natural language without dependency on any domain-specific language (DSL). It integrates with terraform allowing organizations to define, implement, and enforce policies for infrastructure of their cloud and on-premises environments.\n",
    "\n",
    "\n",
    "#### Use case\n",
    "\n",
    "To demonstrate the natural language policy definition capabilities of Anthropic Claude via Amazon Bedrock, let's take the use case of creating IT security policies for a growing tech company.\n",
    "\n",
    "\n",
    "#### Persona\n",
    "You are Sarah, the newly appointed Chief Information Security Officer (CISO) at TechGrowth Inc., a rapidly expanding software company. As the company scales, you need to establish comprehensive IT security policies that align with industry standards and regulations. However, you're facing challenges:\n",
    "\n",
    "1. Your team lacks expertise in policy writing in sentinel language.\n",
    "2. You need policies that are clear and understandable to all employees, not just IT specialists.\n",
    "3. The policies must be adaptable as the company grows and technology evolves.\n",
    "4. You're under time pressure to implement these policies before the next board meeting.\n",
    "5. You want to use Sentinel for policy enforcement. \n",
    "\n",
    "#### Implementation\n",
    "To fulfill this use case, in this notebook we will show how to define policies in plain natural language and using Foundation Model (FM) to convert it into Hashicorp sentinel programming language.We will use the Anthropic Claude 3 Sonnet Foundation model using the Amazon Bedrock API and Langchain. "
   ]
  },
  {
   "cell_type": "markdown",
   "metadata": {},
   "source": [
    "#### Python 3.10\n",
    "\n",
    "⚠  For this lab we need to run the notebook based on a Python 3.10 runtime. ⚠\n",
    "\n",
    "\n",
    "## Installation\n",
    "\n",
    "To run this notebook you would need to install dependencies - boto3, botocore and langchain.\n",
    "\n",
    "Notice `capture` command below, this will suppress the output of pip installation commands. This will take approx about 3 - 5 mins to complete. You will not see any output as we are suppressing the output using `capture` command. If you would like to see the ouput, please comment out the `capture` command and run the cell. In this case, ignore `Warnings` and `Errors` you may see."
   ]
  },
  {
   "cell_type": "code",
   "execution_count": 2,
   "metadata": {
    "vscode": {
     "languageId": "plaintext"
    }
   },
   "outputs": [],
   "source": [
    "%%capture\n",
    "%pip install --upgrade pip\n",
    "%pip install boto3 --force-reinstall --quiet\n",
    "%pip install botocore --force-reinstall --quiet\n",
    "%pip install langchain --force-reinstall --quiet\n",
    "%pip install langchain_aws --force-reinstall --quiet"
   ]
  },
  {
   "cell_type": "markdown",
   "metadata": {},
   "source": [
    "## Kernel Restart\n",
    "\n",
    "Restart the kernel with the updated packages that are installed through the dependencies above"
   ]
  },
  {
   "cell_type": "code",
   "execution_count": 3,
   "metadata": {
    "vscode": {
     "languageId": "plaintext"
    }
   },
   "outputs": [
    {
     "data": {
      "text/html": [
       "<script>Jupyter.notebook.kernel.restart()</script>"
      ],
      "text/plain": [
       "<IPython.core.display.HTML object>"
      ]
     },
     "execution_count": 3,
     "metadata": {},
     "output_type": "execute_result"
    }
   ],
   "source": [
    "# restart kernel\n",
    "from IPython.core.display import HTML\n",
    "HTML(\"<script>Jupyter.notebook.kernel.restart()</script>\")"
   ]
  },
  {
   "cell_type": "markdown",
   "metadata": {},
   "source": [
    "## Setup \n",
    "\n",
    "Import the necessary libraries"
   ]
  },
  {
   "cell_type": "code",
   "execution_count": 1,
   "metadata": {
    "vscode": {
     "languageId": "plaintext"
    }
   },
   "outputs": [],
   "source": [
    "import json\n",
    "import os\n",
    "import sys\n",
    "import boto3\n",
    "import botocore\n",
    "from langchain_core.output_parsers import StrOutputParser\n",
    "from langchain_core.prompts import ChatPromptTemplate\n",
    "#from langchain_community.chat_models.bedrock import BedrockChat\n",
    "from langchain_aws import ChatBedrock\n",
    "from botocore.client import Config"
   ]
  },
  {
   "cell_type": "code",
   "execution_count": 2,
   "metadata": {
    "vscode": {
     "languageId": "plaintext"
    }
   },
   "outputs": [],
   "source": [
    "from langchain.prompts import PromptTemplate\n",
    "\n",
    "prompt = PromptTemplate(\n",
    "    input_variables=[\"policy\", \"terraform_code\"],\n",
    "    template=\"\"\"/\n",
    "    <policy>{policy}<policy>/\n",
    "    You are a Hashicorp Sentinel expert and you generate code in sentinel programming language from policies define in Natural language within <policy></policy> tags./\n",
    "    Please generate the code within <code></code> tags.\n",
    "    Please add your analysis and explanation with <explanation></explanation> tags.\n",
    "    Think step by step and provide a detailed explanation for your answer./\n",
    "    \"\"\"\n",
    "    )"
   ]
  },
  {
   "cell_type": "markdown",
   "metadata": {},
   "source": [
    "## Define Policies as a Constitution in Natural Language\n",
    "Here, we define all our policies as a constitution. Each policy is equivalent of a directive principle in this constitution."
   ]
  },
  {
   "cell_type": "code",
   "execution_count": 3,
   "metadata": {
    "vscode": {
     "languageId": "plaintext"
    }
   },
   "outputs": [],
   "source": [
    "policy = \"\"\"\n",
    "1. all EC2 instances should have tags/\n",
    "\"\"\""
   ]
  },
  {
   "cell_type": "markdown",
   "metadata": {},
   "source": [
    "## Prompt template with policy and Terraform code as input"
   ]
  },
  {
   "cell_type": "code",
   "execution_count": 4,
   "metadata": {
    "vscode": {
     "languageId": "plaintext"
    }
   },
   "outputs": [],
   "source": [
    "# format the prompt to add variable values\n",
    "prompt_formatted_str: str = prompt.format(\n",
    "    policy=policy)"
   ]
  },
  {
   "cell_type": "markdown",
   "metadata": {},
   "source": [
    "## Initialization\n",
    "\n",
    "Initiate Bedrock Runtime and BedrockChat"
   ]
  },
  {
   "cell_type": "code",
   "execution_count": 5,
   "metadata": {
    "vscode": {
     "languageId": "plaintext"
    }
   },
   "outputs": [],
   "source": [
    "bedrock_config = Config(connect_timeout=120, read_timeout=120, retries={'max_attempts': 0})\n",
    "bedrock_client = boto3.client('bedrock-runtime')\n",
    "\n",
    "modelId = 'anthropic.claude-3-5-sonnet-20240620-v1:0' # change this to use a different version from the model provider\n",
    "\n",
    "llm = ChatBedrock(model_id=modelId)"
   ]
  },
  {
   "cell_type": "markdown",
   "metadata": {},
   "source": [
    "## Model Invocation and Response Generation\n",
    "\n",
    "Invoke the model and visualize the response"
   ]
  },
  {
   "cell_type": "code",
   "execution_count": 6,
   "metadata": {
    "vscode": {
     "languageId": "plaintext"
    }
   },
   "outputs": [
    {
     "name": "stdout",
     "output_type": "stream",
     "text": [
      "Certainly! I'll generate the Sentinel code based on the policy provided, add an explanation, and break down the thought process step by step.\n",
      "\n",
      "<code>\n",
      "import \"tfplan/v2\" as tfplan\n",
      "\n",
      "// Main rule\n",
      "main = rule {\n",
      "    all ec2_instances_have_tags\n",
      "}\n",
      "\n",
      "// Rule to check if all EC2 instances have tags\n",
      "ec2_instances_have_tags = rule {\n",
      "    all tfplan.resources.aws_instance as _, instance {\n",
      "        length(instance.change.after.tags) > 0\n",
      "    }\n",
      "}\n",
      "</code>\n",
      "\n",
      "<explanation>\n",
      "Step-by-step thought process and explanation:\n",
      "\n",
      "1. Policy Analysis:\n",
      "   The policy states that \"all EC2 instances should have tags\". This means we need to check every EC2 instance resource in the Terraform plan and ensure it has at least one tag.\n",
      "\n",
      "2. Import Statement:\n",
      "   We start by importing the \"tfplan/v2\" module, which allows us to access the Terraform plan data. This is crucial for inspecting the resources that are being created or modified.\n",
      "\n",
      "3. Main Rule:\n",
      "   We define the main rule that will be evaluated when the policy is run. This rule calls our custom rule `ec2_instances_have_tags`.\n",
      "\n",
      "4. EC2 Instances Tag Check Rule:\n",
      "   We create a custom rule called `ec2_instances_have_tags` to implement the policy.\n",
      "   \n",
      "   a. We use the `all` function to iterate over all resources of type \"aws_instance\" in the Terraform plan.\n",
      "   b. For each instance, we check the length of the `tags` attribute in the \"after\" state (i.e., the planned state).\n",
      "   c. If the length is greater than 0, it means the instance has at least one tag.\n",
      "   d. The rule passes if all instances have at least one tag.\n",
      "\n",
      "5. Resource Access:\n",
      "   We use `tfplan.resources.aws_instance` to access all EC2 instance resources in the plan.\n",
      "\n",
      "6. Tag Check:\n",
      "   We use `instance.change.after.tags` to access the tags of the instance in its planned state.\n",
      "   The `length()` function is used to count the number of tags.\n",
      "\n",
      "This Sentinel policy will ensure that all EC2 instances defined in the Terraform plan have at least one tag associated with them. If any EC2 instance is found without tags, the policy will fail, preventing the application of the Terraform plan.\n",
      "\n",
      "This approach is flexible and will work regardless of the number of EC2 instances or the specific tags used. It simply enforces the presence of tags without dictating what those tags should be.\n",
      "</explanation>\n"
     ]
    }
   ],
   "source": [
    "response =llm.invoke(prompt_formatted_str)\n",
    "print(response.content)"
   ]
  },
  {
   "cell_type": "markdown",
   "metadata": {},
   "source": [
    "## Conclusion\n",
    "You have now experimented with how to convert policies defined in natural language to Sentinel Policy\n",
    "\n",
    "### Take aways\n",
    "- Adapt this notebook to experiment with different Claude 3 models available through Amazon Bedrock. \n",
    "- Change the prompts to your specific usecase and evaluate the output of different models.\n",
    "- Play with the token length to understand the latency and responsiveness of the service.\n",
    "- Apply different prompt engineering principles to get better outputs.\n",
    "\n",
    "## Thank You"
   ]
  }
 ],
 "metadata": {
  "kernelspec": {
   "display_name": "Python 3 (ipykernel)",
   "language": "python",
   "name": "python3"
  },
  "language_info": {
   "codemirror_mode": {
    "name": "ipython",
    "version": 3
   },
   "file_extension": ".py",
   "mimetype": "text/x-python",
   "name": "python",
   "nbconvert_exporter": "python",
   "pygments_lexer": "ipython3",
   "version": "3.12.2"
  }
 },
 "nbformat": 4,
 "nbformat_minor": 4
}
